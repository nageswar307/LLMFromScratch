{
  "nbformat": 4,
  "nbformat_minor": 0,
  "metadata": {
    "colab": {
      "provenance": [],
      "mount_file_id": "1IW08jEsMQ0jb2ZeouLOLjT1hnavA1BYt",
      "authorship_tag": "ABX9TyNnuA0Bk4/sCRZuMKCY55Np",
      "include_colab_link": true
    },
    "kernelspec": {
      "name": "python3",
      "display_name": "Python 3"
    },
    "language_info": {
      "name": "python"
    }
  },
  "cells": [
    {
      "cell_type": "markdown",
      "metadata": {
        "id": "view-in-github",
        "colab_type": "text"
      },
      "source": [
        "<a href=\"https://colab.research.google.com/github/nageswar307/LLMFromScratch/blob/main/LLMFromScratch.ipynb\" target=\"_parent\"><img src=\"https://colab.research.google.com/assets/colab-badge.svg\" alt=\"Open In Colab\"/></a>"
      ]
    },
    {
      "cell_type": "markdown",
      "source": [
        "##**Working with text and building our own tokenizer**"
      ],
      "metadata": {
        "id": "PlxtX9fFL2Dy"
      }
    },
    {
      "cell_type": "code",
      "execution_count": null,
      "metadata": {
        "id": "CyAka6MUr7U_"
      },
      "outputs": [],
      "source": [
        "import re"
      ]
    },
    {
      "cell_type": "code",
      "source": [
        "with open(\"/content/drive/MyDrive/the-verdict.txt\",\"r\",encoding=\"utf-8\") as f:\n",
        "  raw_text=f.read()\n",
        "print(len(raw_text))\n",
        "print(raw_text[:100])"
      ],
      "metadata": {
        "colab": {
          "base_uri": "https://localhost:8080/"
        },
        "id": "hBMssUnWsB4u",
        "outputId": "99ddeabd-6d92-40ea-9a20-d0bc8265c878"
      },
      "execution_count": null,
      "outputs": [
        {
          "output_type": "stream",
          "name": "stdout",
          "text": [
            "20479\n",
            "I HAD always thought Jack Gisburn rather a cheap genius--though a good fellow enough--so it was no g\n"
          ]
        }
      ]
    },
    {
      "cell_type": "code",
      "source": [
        "text = \"Hello, world. This, is a test.\"\n",
        "result = re.split(r\"(\\s)\", text)\n",
        "print(result)"
      ],
      "metadata": {
        "colab": {
          "base_uri": "https://localhost:8080/"
        },
        "id": "iBIwHqpIujph",
        "outputId": "09113214-153b-4c47-8700-6553966fab4c"
      },
      "execution_count": null,
      "outputs": [
        {
          "output_type": "stream",
          "name": "stdout",
          "text": [
            "['Hello,', ' ', 'world.', ' ', 'This,', ' ', 'is', ' ', 'a', ' ', 'test.']\n"
          ]
        }
      ]
    },
    {
      "cell_type": "code",
      "source": [
        "result = re.split('([.,]|\\s)',text)\n",
        "result = [item for item in result if item.strip()]\n",
        "print(result)"
      ],
      "metadata": {
        "colab": {
          "base_uri": "https://localhost:8080/"
        },
        "id": "hxlRb-wcveZ4",
        "outputId": "dab7af11-fbdd-4ed4-ce24-052f8a1f9cd9"
      },
      "execution_count": null,
      "outputs": [
        {
          "output_type": "stream",
          "name": "stdout",
          "text": [
            "['Hello', ',', 'world', '.', 'This', ',', 'is', 'a', 'test', '.']\n"
          ]
        }
      ]
    },
    {
      "cell_type": "code",
      "source": [
        "text = \"Hello, world. Is this-- a test?\"\n",
        "result  = re.split('([,.:;?_!\"()\\']|--|\\s)',text)\n",
        "result = [item for item in result if item.strip()]\n",
        "print(result)"
      ],
      "metadata": {
        "colab": {
          "base_uri": "https://localhost:8080/"
        },
        "id": "pjwEFSsavk39",
        "outputId": "ade3657f-dfb1-4f15-dba5-358b72966077"
      },
      "execution_count": null,
      "outputs": [
        {
          "output_type": "stream",
          "name": "stdout",
          "text": [
            "['Hello', ',', 'world', '.', 'Is', 'this', '--', 'a', 'test', '?']\n"
          ]
        }
      ]
    },
    {
      "cell_type": "code",
      "source": [
        "preprocessed = re.split(r'([,.?_!\"()\\']|--|\\s)', raw_text)\n",
        "preprocessed = [item for item in preprocessed if item.strip()]\n",
        "len(preprocessed)\n",
        "print(preprocessed[:50])"
      ],
      "metadata": {
        "colab": {
          "base_uri": "https://localhost:8080/"
        },
        "id": "U-u0bMzZxVTf",
        "outputId": "8212b4ea-a3f9-4cae-b25f-3238d67cb324"
      },
      "execution_count": null,
      "outputs": [
        {
          "output_type": "stream",
          "name": "stdout",
          "text": [
            "['I', 'HAD', 'always', 'thought', 'Jack', 'Gisburn', 'rather', 'a', 'cheap', 'genius', '--', 'though', 'a', 'good', 'fellow', 'enough', '--', 'so', 'it', 'was', 'no', 'great', 'surprise', 'to', 'me', 'to', 'hear', 'that', ',', 'in', 'the', 'height', 'of', 'his', 'glory', ',', 'he', 'had', 'dropped', 'his', 'painting', ',', 'married', 'a', 'rich', 'widow', ',', 'and', 'established', 'himself']\n"
          ]
        }
      ]
    },
    {
      "cell_type": "code",
      "source": [
        "all_words = sorted(list(set(preprocessed)))\n",
        "vocab_size = len(all_words)\n",
        "print(vocab_size)"
      ],
      "metadata": {
        "colab": {
          "base_uri": "https://localhost:8080/"
        },
        "id": "NFO6IxOSxzQR",
        "outputId": "ed5ad0da-299a-46d1-db72-4826de7098b2"
      },
      "execution_count": null,
      "outputs": [
        {
          "output_type": "stream",
          "name": "stdout",
          "text": [
            "1159\n"
          ]
        }
      ]
    },
    {
      "cell_type": "code",
      "source": [
        "vocab = {token: idx for idx,token in enumerate(all_words)}\n",
        "for i,j in enumerate(vocab.items()):\n",
        "  print(j)\n",
        "  if i==20:\n",
        "    break"
      ],
      "metadata": {
        "colab": {
          "base_uri": "https://localhost:8080/"
        },
        "id": "ApofKyDmyQ7B",
        "outputId": "75cf166a-3e58-4b73-caf2-f46a84fedd7f"
      },
      "execution_count": null,
      "outputs": [
        {
          "output_type": "stream",
          "name": "stdout",
          "text": [
            "('!', 0)\n",
            "('\"', 1)\n",
            "(\"'\", 2)\n",
            "('(', 3)\n",
            "(')', 4)\n",
            "(',', 5)\n",
            "('--', 6)\n",
            "('.', 7)\n",
            "(':', 8)\n",
            "(';', 9)\n",
            "('?', 10)\n",
            "('A', 11)\n",
            "('Ah', 12)\n",
            "('Among', 13)\n",
            "('And', 14)\n",
            "('Are', 15)\n",
            "('Arrt', 16)\n",
            "('As', 17)\n",
            "('At', 18)\n",
            "('Be', 19)\n",
            "('Begin', 20)\n"
          ]
        }
      ]
    },
    {
      "cell_type": "code",
      "source": [
        "class SimpleTokenizerV1:\n",
        "  def __init__(self, vocab):\n",
        "    self.str_to_int = vocab #A\n",
        "    self.int_to_str = {i:s for s,i in vocab.items()} #B\n",
        "  def encode(self, text): #C\n",
        "    preprocessed = re.split(r'([,.?_!\"()\\']|--|\\s)', text)\n",
        "    preprocessed = [item.strip() for item in preprocessed if item.strip()]\n",
        "    ids = [self.str_to_int[s] for s in preprocessed]\n",
        "    return ids\n",
        "  def decode(self, ids): #D\n",
        "    text = \" \".join([self.int_to_str[i] for i in ids])\n",
        "    text = re.sub(r'\\s+([,.?!\"()\\'])', r'\\1', text) #E\n",
        "    return text"
      ],
      "metadata": {
        "id": "7mOt0YhYyV6v"
      },
      "execution_count": null,
      "outputs": []
    },
    {
      "cell_type": "code",
      "source": [
        "tokenizer = SimpleTokenizerV1(vocab)\n",
        "tokenizer.int_to_str[1000]"
      ],
      "metadata": {
        "colab": {
          "base_uri": "https://localhost:8080/"
        },
        "id": "NQINrTXx0xcy",
        "outputId": "9d0bbbe8-679c-4883-a999-0f7314e02d15"
      },
      "execution_count": null,
      "outputs": [
        {
          "output_type": "execute_result",
          "data": {
            "text/plain": [
              "'tea'"
            ],
            "application/vnd.google.colaboratory.intrinsic+json": {
              "type": "string"
            }
          },
          "metadata": {},
          "execution_count": 67
        }
      ]
    },
    {
      "cell_type": "code",
      "source": [
        "text = \"\"\"\"It's the last he painted, you know,\" Mrs. Gisburn said with pardonable \"\"\"\n",
        "ids = tokenizer.encode(text)\n",
        "print(ids)"
      ],
      "metadata": {
        "colab": {
          "base_uri": "https://localhost:8080/"
        },
        "id": "fAKnz7V801xY",
        "outputId": "afdc6248-39a7-4a05-9b15-af0f48dff7eb"
      },
      "execution_count": null,
      "outputs": [
        {
          "output_type": "stream",
          "name": "stdout",
          "text": [
            "[1, 58, 2, 872, 1013, 615, 541, 763, 5, 1155, 608, 5, 1, 69, 7, 39, 873, 1136, 773]\n"
          ]
        }
      ]
    },
    {
      "cell_type": "code",
      "source": [
        "tokenizer.decode(ids)"
      ],
      "metadata": {
        "colab": {
          "base_uri": "https://localhost:8080/"
        },
        "id": "kcU6zQ7T04eR",
        "outputId": "704a4fb4-b232-43df-fd8c-cb4259d0730b"
      },
      "execution_count": null,
      "outputs": [
        {
          "output_type": "execute_result",
          "data": {
            "text/plain": [
              "'\" It \\' s the last he painted , you know , \" Mrs . Gisburn said with pardonable'"
            ],
            "application/vnd.google.colaboratory.intrinsic+json": {
              "type": "string"
            }
          },
          "metadata": {},
          "execution_count": 69
        }
      ]
    },
    {
      "cell_type": "code",
      "source": [
        "txt = \"\"\"From Wikipedia, the free encyclopedia\n",
        "This article is about natural and human-made phenomena and structures of the world. For other uses of \"Wonders of the World\", see Wonders of the World (disambiguation).\n",
        "\n",
        "The Seven Wonders of the Ancient World (from left to right, top to bottom): Great Pyramid of Giza, Hanging Gardens of Babylon, Temple of Artemis at Ephesus, Statue of Zeus at Olympia, Mausoleum at Halicarnassus (also known as the Mausoleum of Mausolus), Colossus of Rhodes, and the Lighthouse of Alexandria as depicted by 16th-century Dutch artist Maarten van Heemskerck.\n",
        "\n",
        "Map of places listed in various Wonders of the World lists\n",
        "Various lists of the Wonders of the World have been compiled from antiquity to the present day, in order to catalogue the world's most spectacular natural features and human-built structures.\n",
        "\n",
        "The Seven Wonders of the Ancient World is the oldest known list of this type, documenting the most iconic and remarkable human-made creations of classical antiquity; it was based on guidebooks popular among Hellenic sightseers and as such only includes works located around the Mediterranean rim and in the ancient Near East. The number seven was chosen because the Greeks believed it represented perfection and plenty, and because it reflected the number of planets known in ancient times (five) plus the Sun and Moon.[1]\n",
        "\n",
        "Seven Wonders of the Ancient World\n",
        "Main article: Seven Wonders of the Ancient World\n",
        "\n",
        "The Great Pyramid of Giza, the only wonder of the ancient world still in existence\n",
        "The Greek historian Herodotus (484 – c. 425 BC) and the scholar Callimachus of Cyrene (c. 305–240 BC), at the Museum of Alexandria, made early lists of seven wonders. These lists have not survived, however, except as references in other writings.\n",
        "\n",
        "The classic Seven Wonders were:\n",
        "\n",
        "Great Pyramid of Giza, in Giza, Egypt, the earliest of the wonders to be completed, as well as the only one that still exists in the present day.\n",
        "Colossus of Rhodes, in the harbor of the city of Rhodes, on the Greek island of the same name.\n",
        "Hanging Gardens of Babylon, in Babylon, near present-day Hillah, Babylon Governorate, Iraq; or Nineveh, Mosul, Nineveh Governorate, Iraq.\n",
        "Lighthouse of Alexandria, in Alexandria, Egypt.\n",
        "Mausoleum at Halicarnassus, in Halicarnassus, a city of the Achaemenid Empire in present-day Turkey.\n",
        "Statue of Zeus at Olympia, in Olympia, Greece.\n",
        "Temple of Artemis at Ephesus, in the city of Ephesus, near present-day Selçuk, Turkey.\n",
        "Lists from other eras\n",
        "In the 19th and early 20th centuries, some writers emulated the classical list by creating their own lists with names such as \"Wonders of the Middle Ages\", \"Seven Wonders of the Middle Ages\", \"Seven Wonders of the Medieval Mind\", and \"Architectural Wonders of the Middle Ages\".[2] It is unlikely that any of these lists actually originated in the Middle Ages since the concept of a \"Middle Age\" did not become popular until at least the 16th century and the word \"medieval\" was not invented until the Enlightenment era. Brewer's Dictionary of Phrase and Fable refers to them as \"later list[s]\",[3] suggesting the lists were created after the Middle Ages.\n",
        "\n",
        "Many of the structures on these lists were built much earlier than the Middle Ages but were well known throughout the world.[4][5] Typically representative of such lists are:[3][4][6][7]\n",
        "\n",
        "Catacombs of Kom El Shoqafa, a 2nd-century funerary complex in Alexandria, Egypt.\n",
        "Colosseum, a 1st-century amphitheatre in the centre of the city of Rome, Italy.\n",
        "Great Wall of China, a series of defensive fortifications built across the historical northern borders of China, with some segments dating to as early as the 7th century BC.\n",
        "Hagia Sophia, a 6th-century cathedral and mosque in Istanbul, Turkey.\n",
        "Leaning Tower of Pisa, a 12th-century bell tower in Pisa, Italy.\n",
        "Porcelain Tower of Nanjing, a 15th-century pagoda on the south bank of the external Qinhuai River in Nanjing, China.\n",
        "Stonehenge, a Neolithic henge monument in Wiltshire, England dated to the 3rd millennium BC.\n",
        "Other structures sometimes included on such lists include:\n",
        "\n",
        "Cairo Citadel, a 13th-century Islamic fortification in Cairo, Egypt.[8]\n",
        "Cluny Abbey, a 10th-century Benedictine monastery in Cluny, Saône-et-Loire, France.[9]\n",
        "Ely Cathedral, a (currently Anglican) cathedral originally built in the 11th century in Ely, Cambridgeshire, England.[10]\n",
        "\n",
        "Recent lists\n",
        "Following in the tradition of the classical list, modern people and organisations have made their own lists of wonderful things, both ancient and modern, natural and artificial. Some of the most notable lists are presented below.\n",
        "\n",
        "American Society of Civil Engineers\n",
        "\n",
        "CN Tower in Toronto, Canada\n",
        "In 1994, the American Society of Civil Engineers compiled a list of Seven Wonders of the Modern World, paying tribute to the \"greatest civil engineering achievements of the 20th century\".[11][12]\n",
        "\n",
        "American Society of Civil Engineers Wonders\n",
        "Wonder\tDate started\tDate finished\tLocation\tSignificance\n",
        "Channel Tunnel\tDecember 1, 1987\tMay 6, 1994\tStrait of Dover, in the English Channel between the United Kingdom and France\tLongest undersea portion of any tunnel in the world\n",
        "CN Tower\tFebruary 6, 1973\tJune 26, 1976\tToronto, Ontario, Canada\tTallest freestanding structure in the world from 1976 to 2007\n",
        "Empire State Building\tMarch 17, 1930\tApril 11, 1931\tNew York City, New York, United States\tTallest structure in the world from 1931 to 1954; tallest freestanding structure in the world from 1931 to 1967; tallest building in the world from 1931 to 1970; first building with 100+ stories\n",
        "Golden Gate Bridge\tJanuary 5, 1933\tMay 27, 1937\tGolden Gate Strait, north of San Francisco, California, United States\tLongest main span of any suspension bridge in the world from 1937 to 1964\n",
        "Itaipu Dam\tJanuary 1970\tMay 5, 1984\tParaná River, on the border between Brazil and Paraguay\tLargest operating hydroelectric facility in the world in terms of annual energy generation[13]\n",
        "Netherlands North Sea Protection Works (Delta and Zuiderzee Works)\t1920\tMay 10, 1997\tZeeland, South Holland, North Holland, Friesland and Flevoland, Netherlands\tLargest hydraulic engineering project undertaken by the Netherlands during the 20th century\n",
        "Panama Canal\tJanuary 1, 1880\tJanuary 7, 1914\tIsthmus of Panama\tAllows passage of oceangoing vessels between the Atlantic and Pacific oceans; one of the largest and most difficult engineering projects ever undertaken\n",
        "USA Today's New Seven Wonders\n",
        "\n",
        "Old City of Jerusalem\n",
        "In November 2006, the American national newspaper USA Today and the American television show Good Morning America revealed a list of the \"New Seven Wonders\", both natural and human-made, as chosen by six judges.[14] The Grand Canyon was added as an eighth wonder on November 24, 2006, in response to viewer feedback.[15]\n",
        "\n",
        "USA Today's New Seven Wonders\n",
        "Wonder\tLocation\n",
        "Potala Palace\tLhasa, Tibet\n",
        "Old City of Jerusalem\tIsrael[n 1]\n",
        "Polar ice caps\tEarth's polar regions (Arctic and Antarctic)\n",
        "Papahānaumokuākea Marine National Monument\tHawaii, United States\n",
        "The Internet\tWorldwide\n",
        "Mayan ruins\tYucatán Peninsula, México\n",
        "Great Migration of Serengeti and Masai Mara\tTanzania and Kenya\n",
        "Grand Canyon (viewer-chosen eighth wonder)\tArizona, United States\n",
        "Seven Natural Wonders of the World\n",
        "\n",
        "Victoria Falls\n",
        "Similar to the other lists of wonders, there is no consensus on a list of seven natural wonders of the world, and there has been debate over how large such a list should be. One of many existing versions of this list was compiled by CNN in 1997:[16]\n",
        "\n",
        "Aurora, in the Earth's high-latitude regions (around the Arctic and Antarctic)\n",
        "Grand Canyon, in Arizona, United States\n",
        "Great Barrier Reef, off the coast of Queensland, Australia\n",
        "Harbor of Rio de Janeiro, Brazil\n",
        "Mount Everest, on the border of Nepal and China\n",
        "Parícutin volcano, located in the state of Michoacán, Mexico\n",
        "Victoria Falls, on the border of Zambia and Zimbabwe\n",
        "New 7 Wonders of the World\n",
        "\n",
        "El Castillo at Chichen Itza\n",
        "In 2001, an initiative was started by the Swiss corporation New7Wonders Foundation to choose the New 7 Wonders of the World from a selection of 200 existing monuments through online votes.[17] The Great Pyramid of Giza—part of the Giza Pyramids, the only remaining wonder of the traditional Seven Wonders of the Ancient World, was not one of the winners announced in 2007 but was added as an honorary candidate.[18][19]\n",
        "\n",
        "Wonder\tDate of construction\tPresent-day location\n",
        "Great Wall of China\tSince 7th century BC[20]\tChina\n",
        "Petra\tc. 100 BC\tMa'an, Jordan\n",
        "Christ the Redeemer\topened to the public October 12, 1931\tRio de Janeiro, Brazil\n",
        "Machu Picchu\tc. AD 1450\tUrubamba Province, Peru\n",
        "Chichen Itza\tc. AD 600\tYucatán, Mexico\n",
        "Colosseum\tcompleted AD 80\tRome, Italy\n",
        "Taj Mahal\tcompleted c. AD 1648\tAgra, India\n",
        "Giza Pyramids (honorary candidates)\tcompleted c. 2560 BC\tGiza, Egypt\n",
        "\n",
        "New 7 Wonders of Nature\n",
        "\n",
        "Jeju Island\n",
        "A similar contemporary effort to create a list of seven natural (as opposed to human-made) wonders chosen through a global poll, called the New 7 Wonders of Nature, was organized from 2007 to 2011 by the same group as the New 7 Wonders of the World campaign.\n",
        "\n",
        "Iguazu Falls, on the border of the Argentine province of Misiones and the Brazilian state of Paraná\n",
        "Hạ Long Bay, in Quảng Ninh province, Vietnam\n",
        "Jeju Island, in the Jeju Province of South Korea\n",
        "Puerto Princesa Underground River, in Palawan, Philippines\n",
        "Table Mountain, overlooking the city of Cape Town, South Africa\n",
        "Komodo Island, one of the 17,508 islands that comprise the Republic of Indonesia\n",
        "Amazon rainforest, located in Brazil, Peru, Colombia, Venezuela, Ecuador, Bolivia, Guyana, Suriname, and French Guiana\n",
        "New 7 Wonders Cities\n",
        "\n",
        "Calle Crisologo, Vigan City\n",
        "New 7 Wonders Cities, a third list organized by New7Wonders and determined by another global vote, includes entire cities:\n",
        "\n",
        "Durban, South Africa\n",
        "Vigan, Philippines\n",
        "Havana, Cuba\n",
        "Kuala Lumpur, Malaysia\n",
        "Beirut, Lebanon\n",
        "Doha, Qatar\n",
        "La Paz, Bolivia\n",
        "Seven Wonders of the Underwater World\n",
        "\n",
        "The Great Barrier Reef\n",
        "The list of \"Seven Wonders of the Underwater World\" was drawn up by CEDAM International, an American-based non-profit group for divers that is dedicated to ocean preservation and research. In 1989, CEDAM brought together a panel of marine scientists, including Eugenie Clark, to choose underwater areas which they considered worthy of protection. The results were announced at The National Aquarium in Washington, D.C., by actor Lloyd Bridges, star of TV's Sea Hunt:[21]\n",
        "\n",
        "Palau\n",
        "Belize Barrier Reef, Belize\n",
        "Great Barrier Reef, Australia\n",
        "Deep-sea hydrothermal vents (worldwide)\n",
        "Galápagos Islands, Ecuador\n",
        "Lake Baikal, Russia\n",
        "Northern Red Sea, bordered by Saudi Arabia and Yemen on the eastern shore, and Egypt, Sudan, Eritrea, and Djibouti on the western shore\n",
        "Seven Wonders of the Industrial World\n",
        "\n",
        "Bell Rock Lighthouse\n",
        "British author Deborah Cadbury wrote Seven Wonders of the Industrial World, a book telling the stories of seven great feats of engineering of the 19th and early 20th centuries.[22] In 2003, the BBC aired a seven-part docudrama exploring the same feats, with Cadbury as a producer.[23]\n",
        "\n",
        "Wonder\tDescription\tCompleted\n",
        "SS Great Eastern\tBritish oceangoing passenger steamship\t1858\n",
        "Bell Rock Lighthouse\tin the North Sea off the coast of Angus, Scotland\t1810\n",
        "Brooklyn Bridge\tin New York City, New York, United States\t1883\n",
        "London sewerage system\tserving London, England\t1870\n",
        "First transcontinental railroad\t1,912-mile (3,077 km) continuous railroad line connecting existing rail networks in Iowa, Nebraska, Wyoming, Utah, Nevada, and California in the United States\t1869\n",
        "Panama Canal\t51-mile (82 km) artificial waterway crossing the Isthmus of Panama and connecting the Atlantic and Pacific oceans\t1914\n",
        "Hoover Dam\ton the Colorado River, spanning the border between Nevada and Arizona in the United States\t1936\n",
        "Seven Wonders of the Solar System\n",
        "\n",
        "Enceladus\n",
        "In a 1999 article, Astronomy magazine listed the \"Seven Wonders of the Solar System\". This article was later made into a video.[24]\n",
        "\n",
        "Enceladus, a moon of Saturn\n",
        "The Great Red Spot of Jupiter, a massive and persistent anticyclonic storm in the planet's southern hemisphere\n",
        "The asteroid belt, a region of innumerable small solid bodies located between the orbits of Mars and Jupiter\n",
        "The surface of the Sun\n",
        "The oceans of Earth\n",
        "The Rings of Saturn\n",
        "Olympus Mons, an enormous shield volcano on Mars and the tallest planetary mountain in the Solar System\n",
        "Other lists of wonders of the world\n",
        "Many authors and organisations have composed lists of the wonders of the world that have been published in book or magazine form.\n",
        "\n",
        "Seven Wonders of the World is a 1956 film in which Lowell Thomas searches the world for natural and artificial wonders and invites the audience to try to update the ancient Wonders of the World list.\"\"\""
      ],
      "metadata": {
        "id": "4chByG_C2oKP"
      },
      "execution_count": null,
      "outputs": []
    },
    {
      "cell_type": "code",
      "source": [
        "lst_txt = re.split(r\"([,.?_!\\\"()\\']|--|\\s)\",txt)\n",
        "lst_txt = [item for item in lst_txt if item.strip()]\n",
        "len(lst_txt)"
      ],
      "metadata": {
        "colab": {
          "base_uri": "https://localhost:8080/"
        },
        "id": "aObPXflA43Pw",
        "outputId": "8afc558b-c105-4305-c86c-a1619571c5f7"
      },
      "execution_count": null,
      "outputs": [
        {
          "output_type": "execute_result",
          "data": {
            "text/plain": [
              "2371"
            ]
          },
          "metadata": {},
          "execution_count": 85
        }
      ]
    },
    {
      "cell_type": "code",
      "source": [
        "vocab = sorted(list(set(lst_txt)))\n",
        "vocab_size = len(vocab)\n",
        "vocab = {token: idx for idx,token in enumerate(vocab)}"
      ],
      "metadata": {
        "id": "bDWCDjVn5AMd"
      },
      "execution_count": null,
      "outputs": []
    },
    {
      "cell_type": "code",
      "source": [
        "class tokenizerV1:\n",
        "  def __init__(self, vocab):\n",
        "    self.str_to_int = vocab\n",
        "    self.int_to_str = {v:k for k,v in vocab.items()}\n",
        "\n",
        "  def encode(self,text):\n",
        "    preprocessed_text = re.split(r\"([,.?_!\\\"()\\']|--|\\s)\",text)\n",
        "    preprocessed_text = [item.strip() for item in preprocessed_text if item.strip()] # [\"1\",\"am\",\"man\",....]\n",
        "    print(\"preprocessed_text --\",preprocessed_text)\n",
        "    token_ids = [self.str_to_int[token] for token in preprocessed_text]\n",
        "    return token_ids\n",
        "\n",
        "  def decode(self, token_ids): #[100,234,908,567,10000.....]\n",
        "    decoded_text = \" \".join([self.int_to_str[id] for id in token_ids])\n",
        "    decoded_text = re.sub(r'\\s+([,.?!\"()\\'])',r'\\1',decoded_text)\n",
        "    return decoded_text\n"
      ],
      "metadata": {
        "id": "dVRArFlY6jnI"
      },
      "execution_count": null,
      "outputs": []
    },
    {
      "cell_type": "code",
      "source": [
        "tknzr = tokenizerV1(vocab)\n",
        "print(tknzr.str_to_int)\n",
        "print(tknzr.int_to_str)"
      ],
      "metadata": {
        "colab": {
          "base_uri": "https://localhost:8080/"
        },
        "id": "hh-na-3C6EdY",
        "outputId": "1af30cdb-7031-4c27-8e49-ab0febda4038"
      },
      "execution_count": null,
      "outputs": [
        {
          "output_type": "stream",
          "name": "stdout",
          "text": [
            "{'\"': 0, \"'\": 1, '(': 2, ')': 3, ',': 4, '.': 5, '077': 6, '1': 7, '10': 8, '100': 9, '100+': 10, '10th-century': 11, '11': 12, '11th': 13, '12': 14, '12th-century': 15, '13th-century': 16, '1450': 17, '15th-century': 18, '1648': 19, '16th': 20, '16th-century': 21, '17': 22, '1810': 23, '1858': 24, '1869': 25, '1870': 26, '1880': 27, '1883': 28, '1914': 29, '1920': 30, '1930': 31, '1931': 32, '1933': 33, '1936': 34, '1937': 35, '1954;': 36, '1956': 37, '1964': 38, '1967;': 39, '1970': 40, '1970;': 41, '1973': 42, '1976': 43, '1984': 44, '1987': 45, '1989': 46, '1994': 47, '1997': 48, '1997:[16]': 49, '1999': 50, '19th': 51, '1]': 52, '1st-century': 53, '200': 54, '2001': 55, '2003': 56, '2006': 57, '2007': 58, '2011': 59, '20th': 60, '24': 61, '2560': 62, '26': 63, '27': 64, '2nd-century': 65, '3': 66, '305–240': 67, '3rd': 68, '425': 69, '484': 70, '5': 71, '508': 72, '51-mile': 73, '6': 74, '600': 75, '6th-century': 76, '7': 77, '7th': 78, '80': 79, '82': 80, '912-mile': 81, ':': 82, 'A': 83, 'AD': 84, 'Abbey': 85, 'Achaemenid': 86, 'Africa': 87, 'Age': 88, 'Ages': 89, 'Agra': 90, 'Alexandria': 91, 'Allows': 92, 'Amazon': 93, 'America': 94, 'American': 95, 'American-based': 96, 'Ancient': 97, 'Anglican': 98, 'Angus': 99, 'Antarctic': 100, 'April': 101, 'Aquarium': 102, 'Arabia': 103, 'Architectural': 104, 'Arctic': 105, 'Argentine': 106, 'Arizona': 107, 'Artemis': 108, 'Astronomy': 109, 'Atlantic': 110, 'Aurora': 111, 'Australia': 112, 'BBC': 113, 'BC': 114, 'BC[20]': 115, 'Babylon': 116, 'Baikal': 117, 'Barrier': 118, 'Bay': 119, 'Beirut': 120, 'Belize': 121, 'Bell': 122, 'Benedictine': 123, 'Bolivia': 124, 'Brazil': 125, 'Brazilian': 126, 'Brewer': 127, 'Bridge': 128, 'Bridges': 129, 'British': 130, 'Brooklyn': 131, 'Building': 132, 'C': 133, 'CEDAM': 134, 'CN': 135, 'CNN': 136, 'Cadbury': 137, 'Cairo': 138, 'California': 139, 'Calle': 140, 'Callimachus': 141, 'Cambridgeshire': 142, 'Canada': 143, 'Canal': 144, 'Canyon': 145, 'Cape': 146, 'Castillo': 147, 'Catacombs': 148, 'Cathedral': 149, 'Channel': 150, 'Chichen': 151, 'China': 152, 'Christ': 153, 'Citadel': 154, 'Cities': 155, 'City': 156, 'Civil': 157, 'Clark': 158, 'Cluny': 159, 'Colombia': 160, 'Colorado': 161, 'Colosseum': 162, 'Colossus': 163, 'Completed': 164, 'Crisologo': 165, 'Cuba': 166, 'Cyrene': 167, 'D': 168, 'Dam': 169, 'Date': 170, 'Deborah': 171, 'December': 172, 'Deep-sea': 173, 'Delta': 174, 'Description': 175, 'Dictionary': 176, 'Djibouti': 177, 'Doha': 178, 'Dover': 179, 'Durban': 180, 'Dutch': 181, 'Earth': 182, 'East': 183, 'Eastern': 184, 'Ecuador': 185, 'Egypt': 186, 'El': 187, 'Ely': 188, 'Empire': 189, 'Enceladus': 190, 'Engineers': 191, 'England': 192, 'English': 193, 'Enlightenment': 194, 'Ephesus': 195, 'Eritrea': 196, 'Eugenie': 197, 'Everest': 198, 'Fable': 199, 'Falls': 200, 'February': 201, 'First': 202, 'Flevoland': 203, 'Following': 204, 'For': 205, 'Foundation': 206, 'France': 207, 'Francisco': 208, 'French': 209, 'Friesland': 210, 'From': 211, 'Galápagos': 212, 'Gardens': 213, 'Gate': 214, 'Giza': 215, 'Giza—part': 216, 'Golden': 217, 'Good': 218, 'Governorate': 219, 'Grand': 220, 'Great': 221, 'Greece': 222, 'Greek': 223, 'Greeks': 224, 'Guiana': 225, 'Guyana': 226, 'Hagia': 227, 'Halicarnassus': 228, 'Hanging': 229, 'Harbor': 230, 'Havana': 231, 'Hawaii': 232, 'Heemskerck': 233, 'Hellenic': 234, 'Herodotus': 235, 'Hillah': 236, 'Holland': 237, 'Hoover': 238, 'Hunt:[21]': 239, 'Hạ': 240, 'Iguazu': 241, 'In': 242, 'India': 243, 'Indonesia': 244, 'Industrial': 245, 'International': 246, 'Internet': 247, 'Iowa': 248, 'Iraq': 249, 'Iraq;': 250, 'Islamic': 251, 'Island': 252, 'Islands': 253, 'Israel[n': 254, 'Istanbul': 255, 'Isthmus': 256, 'It': 257, 'Itaipu': 258, 'Italy': 259, 'Itza': 260, 'Janeiro': 261, 'January': 262, 'Jeju': 263, 'Jerusalem': 264, 'Jordan': 265, 'June': 266, 'Jupiter': 267, 'Kenya': 268, 'Kingdom': 269, 'Kom': 270, 'Komodo': 271, 'Korea': 272, 'Kuala': 273, 'La': 274, 'Lake': 275, 'Largest': 276, 'Leaning': 277, 'Lebanon': 278, 'Lhasa': 279, 'Lighthouse': 280, 'Lists': 281, 'Lloyd': 282, 'Location': 283, 'London': 284, 'Long': 285, 'Longest': 286, 'Lowell': 287, 'Lumpur': 288, 'Ma': 289, 'Maarten': 290, 'Machu': 291, 'Mahal': 292, 'Main': 293, 'Malaysia': 294, 'Many': 295, 'Map': 296, 'Mara': 297, 'March': 298, 'Marine': 299, 'Mars': 300, 'Masai': 301, 'Mausoleum': 302, 'Mausolus': 303, 'May': 304, 'Mayan': 305, 'Medieval': 306, 'Mediterranean': 307, 'Mexico': 308, 'Michoacán': 309, 'Middle': 310, 'Migration': 311, 'Mind': 312, 'Misiones': 313, 'Modern': 314, 'Mons': 315, 'Monument': 316, 'Moon': 317, 'Morning': 318, 'Mosul': 319, 'Mount': 320, 'Mountain': 321, 'Museum': 322, 'México': 323, 'Nanjing': 324, 'National': 325, 'Natural': 326, 'Nature': 327, 'Near': 328, 'Nebraska': 329, 'Neolithic': 330, 'Nepal': 331, 'Netherlands': 332, 'Nevada': 333, 'New': 334, 'New7Wonders': 335, 'Nineveh': 336, 'Ninh': 337, 'North': 338, 'Northern': 339, 'November': 340, 'October': 341, 'Old': 342, 'Olympia': 343, 'Olympus': 344, 'One': 345, 'Ontario': 346, 'Other': 347, 'Pacific': 348, 'Palace': 349, 'Palau': 350, 'Palawan': 351, 'Panama': 352, 'Papahānaumokuākea': 353, 'Paraguay': 354, 'Paraná': 355, 'Parícutin': 356, 'Paz': 357, 'Peninsula': 358, 'Peru': 359, 'Petra': 360, 'Philippines': 361, 'Phrase': 362, 'Picchu': 363, 'Pisa': 364, 'Polar': 365, 'Porcelain': 366, 'Potala': 367, 'Present-day': 368, 'Princesa': 369, 'Protection': 370, 'Province': 371, 'Puerto': 372, 'Pyramid': 373, 'Pyramids': 374, 'Qatar': 375, 'Qinhuai': 376, 'Queensland': 377, 'Quảng': 378, 'Recent': 379, 'Red': 380, 'Redeemer': 381, 'Reef': 382, 'Republic': 383, 'Rhodes': 384, 'Rings': 385, 'Rio': 386, 'River': 387, 'Rock': 388, 'Rome': 389, 'Russia': 390, 'SS': 391, 'San': 392, 'Saturn': 393, 'Saudi': 394, 'Saône-et-Loire': 395, 'Scotland': 396, 'Sea': 397, 'Selçuk': 398, 'Serengeti': 399, 'Seven': 400, 'Shoqafa': 401, 'Significance': 402, 'Similar': 403, 'Since': 404, 'Society': 405, 'Solar': 406, 'Some': 407, 'Sophia': 408, 'South': 409, 'Spot': 410, 'State': 411, 'States': 412, 'Statue': 413, 'Stonehenge': 414, 'Strait': 415, 'Sudan': 416, 'Sun': 417, 'Suriname': 418, 'Swiss': 419, 'System': 420, 'TV': 421, 'Table': 422, 'Taj': 423, 'Tallest': 424, 'Tanzania': 425, 'Temple': 426, 'The': 427, 'These': 428, 'This': 429, 'Thomas': 430, 'Tibet': 431, 'Today': 432, 'Toronto': 433, 'Tower': 434, 'Town': 435, 'Tunnel': 436, 'Turkey': 437, 'Typically': 438, 'USA': 439, 'Underground': 440, 'Underwater': 441, 'United': 442, 'Urubamba': 443, 'Utah': 444, 'Various': 445, 'Venezuela': 446, 'Victoria': 447, 'Vietnam': 448, 'Vigan': 449, 'Wall': 450, 'Washington': 451, 'Wikipedia': 452, 'Wiltshire': 453, 'Wonder': 454, 'Wonders': 455, 'Works': 456, 'World': 457, 'Worldwide': 458, 'Wyoming': 459, 'Yemen': 460, 'York': 461, 'Yucatán': 462, 'Zambia': 463, 'Zeeland': 464, 'Zeus': 465, 'Zimbabwe': 466, 'Zuiderzee': 467, '[10]': 468, '[11][12]': 469, '[14]': 470, '[15]': 471, '[17]': 472, '[18][19]': 473, '[1]': 474, '[22]': 475, '[23]': 476, '[24]': 477, '[2]': 478, '[3]': 479, '[4][5]': 480, '[8]': 481, '[9]': 482, 'a': 483, 'about': 484, 'achievements': 485, 'across': 486, 'actor': 487, 'actually': 488, 'added': 489, 'after': 490, 'aired': 491, 'also': 492, 'among': 493, 'amphitheatre': 494, 'an': 495, 'ancient': 496, 'and': 497, 'announced': 498, 'annual': 499, 'another': 500, 'anticyclonic': 501, 'antiquity': 502, 'antiquity;': 503, 'any': 504, 'are': 505, 'are:[3][4][6][7]': 506, 'areas': 507, 'around': 508, 'article': 509, 'article:': 510, 'artificial': 511, 'artist': 512, 'as': 513, 'asteroid': 514, 'at': 515, 'audience': 516, 'author': 517, 'authors': 518, 'bank': 519, 'based': 520, 'be': 521, 'because': 522, 'become': 523, 'been': 524, 'believed': 525, 'bell': 526, 'below': 527, 'belt': 528, 'between': 529, 'bodies': 530, 'book': 531, 'border': 532, 'bordered': 533, 'borders': 534, 'both': 535, 'bottom': 536, 'bridge': 537, 'brought': 538, 'building': 539, 'built': 540, 'but': 541, 'by': 542, 'c': 543, 'called': 544, 'campaign': 545, 'candidate': 546, 'candidates': 547, 'caps': 548, 'catalogue': 549, 'cathedral': 550, 'centre': 551, 'centuries': 552, 'century': 553, 'choose': 554, 'chosen': 555, 'cities:': 556, 'city': 557, 'civil': 558, 'classic': 559, 'classical': 560, 'coast': 561, 'compiled': 562, 'completed': 563, 'complex': 564, 'composed': 565, 'comprise': 566, 'concept': 567, 'connecting': 568, 'consensus': 569, 'considered': 570, 'construction': 571, 'contemporary': 572, 'continuous': 573, 'corporation': 574, 'create': 575, 'created': 576, 'creating': 577, 'creations': 578, 'crossing': 579, 'currently': 580, 'dated': 581, 'dating': 582, 'day': 583, 'de': 584, 'debate': 585, 'dedicated': 586, 'defensive': 587, 'depicted': 588, 'determined': 589, 'did': 590, 'difficult': 591, 'disambiguation': 592, 'divers': 593, 'docudrama': 594, 'documenting': 595, 'drawn': 596, 'during': 597, 'earlier': 598, 'earliest': 599, 'early': 600, 'eastern': 601, 'effort': 602, 'eighth': 603, 'emulated': 604, 'encyclopedia': 605, 'energy': 606, 'engineering': 607, 'enormous': 608, 'entire': 609, 'era': 610, 'eras': 611, 'ever': 612, 'except': 613, 'existence': 614, 'existing': 615, 'exists': 616, 'exploring': 617, 'external': 618, 'facility': 619, 'feats': 620, 'features': 621, 'feedback': 622, 'film': 623, 'finished': 624, 'first': 625, 'five': 626, 'for': 627, 'form': 628, 'fortification': 629, 'fortifications': 630, 'free': 631, 'freestanding': 632, 'from': 633, 'funerary': 634, 'generation[13]': 635, 'global': 636, 'great': 637, 'greatest': 638, 'group': 639, 'guidebooks': 640, 'harbor': 641, 'has': 642, 'have': 643, 'hemisphere': 644, 'henge': 645, 'high-latitude': 646, 'historian': 647, 'historical': 648, 'honorary': 649, 'how': 650, 'however': 651, 'human-built': 652, 'human-made': 653, 'hydraulic': 654, 'hydroelectric': 655, 'hydrothermal': 656, 'ice': 657, 'iconic': 658, 'in': 659, 'include:': 660, 'included': 661, 'includes': 662, 'including': 663, 'initiative': 664, 'innumerable': 665, 'into': 666, 'invented': 667, 'invites': 668, 'is': 669, 'island': 670, 'islands': 671, 'it': 672, 'judges': 673, 'km': 674, 'known': 675, 'large': 676, 'largest': 677, 'later': 678, 'least': 679, 'left': 680, 'line': 681, 'list': 682, 'list[s]': 683, 'listed': 684, 'lists': 685, 'located': 686, 'location': 687, 'made': 688, 'magazine': 689, 'main': 690, 'many': 691, 'marine': 692, 'massive': 693, 'medieval': 694, 'millennium': 695, 'modern': 696, 'monastery': 697, 'monument': 698, 'monuments': 699, 'moon': 700, 'mosque': 701, 'most': 702, 'mountain': 703, 'much': 704, 'name': 705, 'names': 706, 'national': 707, 'natural': 708, 'near': 709, 'networks': 710, 'newspaper': 711, 'no': 712, 'non-profit': 713, 'north': 714, 'northern': 715, 'not': 716, 'notable': 717, 'number': 718, 'ocean': 719, 'oceangoing': 720, 'oceans': 721, 'oceans;': 722, 'of': 723, 'off': 724, 'oldest': 725, 'on': 726, 'one': 727, 'online': 728, 'only': 729, 'opened': 730, 'operating': 731, 'opposed': 732, 'or': 733, 'orbits': 734, 'order': 735, 'organisations': 736, 'organized': 737, 'originally': 738, 'originated': 739, 'other': 740, 'over': 741, 'overlooking': 742, 'own': 743, 'pagoda': 744, 'panel': 745, 'passage': 746, 'passenger': 747, 'paying': 748, 'people': 749, 'perfection': 750, 'persistent': 751, 'phenomena': 752, 'places': 753, 'planet': 754, 'planetary': 755, 'planets': 756, 'plenty': 757, 'plus': 758, 'polar': 759, 'poll': 760, 'popular': 761, 'portion': 762, 'present': 763, 'present-day': 764, 'presented': 765, 'preservation': 766, 'producer': 767, 'project': 768, 'projects': 769, 'protection': 770, 'province': 771, 'public': 772, 'published': 773, 'rail': 774, 'railroad': 775, 'rainforest': 776, 'references': 777, 'refers': 778, 'reflected': 779, 'region': 780, 'regions': 781, 'remaining': 782, 'remarkable': 783, 'representative': 784, 'represented': 785, 'research': 786, 'response': 787, 'results': 788, 'revealed': 789, 'right': 790, 'rim': 791, 'ruins': 792, 's': 793, 'same': 794, 'scholar': 795, 'scientists': 796, 'searches': 797, 'see': 798, 'segments': 799, 'selection': 800, 'series': 801, 'serving': 802, 'seven': 803, 'seven-part': 804, 'sewerage': 805, 'shield': 806, 'shore': 807, 'should': 808, 'show': 809, 'sightseers': 810, 'similar': 811, 'since': 812, 'six': 813, 'small': 814, 'solid': 815, 'some': 816, 'sometimes': 817, 'south': 818, 'southern': 819, 'span': 820, 'spanning': 821, 'spectacular': 822, 'star': 823, 'started': 824, 'state': 825, 'steamship': 826, 'still': 827, 'stories': 828, 'storm': 829, 'structure': 830, 'structures': 831, 'such': 832, 'suggesting': 833, 'surface': 834, 'survived': 835, 'suspension': 836, 'system': 837, 'tallest': 838, 'television': 839, 'telling': 840, 'terms': 841, 'than': 842, 'that': 843, 'the': 844, 'their': 845, 'them': 846, 'there': 847, 'these': 848, 'they': 849, 'things': 850, 'third': 851, 'this': 852, 'through': 853, 'throughout': 854, 'times': 855, 'to': 856, 'together': 857, 'top': 858, 'tower': 859, 'tradition': 860, 'traditional': 861, 'transcontinental': 862, 'tribute': 863, 'try': 864, 'tunnel': 865, 'type': 866, 'undersea': 867, 'undertaken': 868, 'underwater': 869, 'unlikely': 870, 'until': 871, 'up': 872, 'update': 873, 'uses': 874, 'van': 875, 'various': 876, 'vents': 877, 'versions': 878, 'vessels': 879, 'video': 880, 'viewer': 881, 'viewer-chosen': 882, 'volcano': 883, 'vote': 884, 'votes': 885, 'was': 886, 'waterway': 887, 'well': 888, 'were': 889, 'were:': 890, 'western': 891, 'which': 892, 'winners': 893, 'with': 894, 'wonder': 895, 'wonderful': 896, 'wonders': 897, 'word': 898, 'works': 899, 'world': 900, 'worldwide': 901, 'worthy': 902, 'writers': 903, 'writings': 904, 'wrote': 905, '–': 906}\n",
            "{0: '\"', 1: \"'\", 2: '(', 3: ')', 4: ',', 5: '.', 6: '077', 7: '1', 8: '10', 9: '100', 10: '100+', 11: '10th-century', 12: '11', 13: '11th', 14: '12', 15: '12th-century', 16: '13th-century', 17: '1450', 18: '15th-century', 19: '1648', 20: '16th', 21: '16th-century', 22: '17', 23: '1810', 24: '1858', 25: '1869', 26: '1870', 27: '1880', 28: '1883', 29: '1914', 30: '1920', 31: '1930', 32: '1931', 33: '1933', 34: '1936', 35: '1937', 36: '1954;', 37: '1956', 38: '1964', 39: '1967;', 40: '1970', 41: '1970;', 42: '1973', 43: '1976', 44: '1984', 45: '1987', 46: '1989', 47: '1994', 48: '1997', 49: '1997:[16]', 50: '1999', 51: '19th', 52: '1]', 53: '1st-century', 54: '200', 55: '2001', 56: '2003', 57: '2006', 58: '2007', 59: '2011', 60: '20th', 61: '24', 62: '2560', 63: '26', 64: '27', 65: '2nd-century', 66: '3', 67: '305–240', 68: '3rd', 69: '425', 70: '484', 71: '5', 72: '508', 73: '51-mile', 74: '6', 75: '600', 76: '6th-century', 77: '7', 78: '7th', 79: '80', 80: '82', 81: '912-mile', 82: ':', 83: 'A', 84: 'AD', 85: 'Abbey', 86: 'Achaemenid', 87: 'Africa', 88: 'Age', 89: 'Ages', 90: 'Agra', 91: 'Alexandria', 92: 'Allows', 93: 'Amazon', 94: 'America', 95: 'American', 96: 'American-based', 97: 'Ancient', 98: 'Anglican', 99: 'Angus', 100: 'Antarctic', 101: 'April', 102: 'Aquarium', 103: 'Arabia', 104: 'Architectural', 105: 'Arctic', 106: 'Argentine', 107: 'Arizona', 108: 'Artemis', 109: 'Astronomy', 110: 'Atlantic', 111: 'Aurora', 112: 'Australia', 113: 'BBC', 114: 'BC', 115: 'BC[20]', 116: 'Babylon', 117: 'Baikal', 118: 'Barrier', 119: 'Bay', 120: 'Beirut', 121: 'Belize', 122: 'Bell', 123: 'Benedictine', 124: 'Bolivia', 125: 'Brazil', 126: 'Brazilian', 127: 'Brewer', 128: 'Bridge', 129: 'Bridges', 130: 'British', 131: 'Brooklyn', 132: 'Building', 133: 'C', 134: 'CEDAM', 135: 'CN', 136: 'CNN', 137: 'Cadbury', 138: 'Cairo', 139: 'California', 140: 'Calle', 141: 'Callimachus', 142: 'Cambridgeshire', 143: 'Canada', 144: 'Canal', 145: 'Canyon', 146: 'Cape', 147: 'Castillo', 148: 'Catacombs', 149: 'Cathedral', 150: 'Channel', 151: 'Chichen', 152: 'China', 153: 'Christ', 154: 'Citadel', 155: 'Cities', 156: 'City', 157: 'Civil', 158: 'Clark', 159: 'Cluny', 160: 'Colombia', 161: 'Colorado', 162: 'Colosseum', 163: 'Colossus', 164: 'Completed', 165: 'Crisologo', 166: 'Cuba', 167: 'Cyrene', 168: 'D', 169: 'Dam', 170: 'Date', 171: 'Deborah', 172: 'December', 173: 'Deep-sea', 174: 'Delta', 175: 'Description', 176: 'Dictionary', 177: 'Djibouti', 178: 'Doha', 179: 'Dover', 180: 'Durban', 181: 'Dutch', 182: 'Earth', 183: 'East', 184: 'Eastern', 185: 'Ecuador', 186: 'Egypt', 187: 'El', 188: 'Ely', 189: 'Empire', 190: 'Enceladus', 191: 'Engineers', 192: 'England', 193: 'English', 194: 'Enlightenment', 195: 'Ephesus', 196: 'Eritrea', 197: 'Eugenie', 198: 'Everest', 199: 'Fable', 200: 'Falls', 201: 'February', 202: 'First', 203: 'Flevoland', 204: 'Following', 205: 'For', 206: 'Foundation', 207: 'France', 208: 'Francisco', 209: 'French', 210: 'Friesland', 211: 'From', 212: 'Galápagos', 213: 'Gardens', 214: 'Gate', 215: 'Giza', 216: 'Giza—part', 217: 'Golden', 218: 'Good', 219: 'Governorate', 220: 'Grand', 221: 'Great', 222: 'Greece', 223: 'Greek', 224: 'Greeks', 225: 'Guiana', 226: 'Guyana', 227: 'Hagia', 228: 'Halicarnassus', 229: 'Hanging', 230: 'Harbor', 231: 'Havana', 232: 'Hawaii', 233: 'Heemskerck', 234: 'Hellenic', 235: 'Herodotus', 236: 'Hillah', 237: 'Holland', 238: 'Hoover', 239: 'Hunt:[21]', 240: 'Hạ', 241: 'Iguazu', 242: 'In', 243: 'India', 244: 'Indonesia', 245: 'Industrial', 246: 'International', 247: 'Internet', 248: 'Iowa', 249: 'Iraq', 250: 'Iraq;', 251: 'Islamic', 252: 'Island', 253: 'Islands', 254: 'Israel[n', 255: 'Istanbul', 256: 'Isthmus', 257: 'It', 258: 'Itaipu', 259: 'Italy', 260: 'Itza', 261: 'Janeiro', 262: 'January', 263: 'Jeju', 264: 'Jerusalem', 265: 'Jordan', 266: 'June', 267: 'Jupiter', 268: 'Kenya', 269: 'Kingdom', 270: 'Kom', 271: 'Komodo', 272: 'Korea', 273: 'Kuala', 274: 'La', 275: 'Lake', 276: 'Largest', 277: 'Leaning', 278: 'Lebanon', 279: 'Lhasa', 280: 'Lighthouse', 281: 'Lists', 282: 'Lloyd', 283: 'Location', 284: 'London', 285: 'Long', 286: 'Longest', 287: 'Lowell', 288: 'Lumpur', 289: 'Ma', 290: 'Maarten', 291: 'Machu', 292: 'Mahal', 293: 'Main', 294: 'Malaysia', 295: 'Many', 296: 'Map', 297: 'Mara', 298: 'March', 299: 'Marine', 300: 'Mars', 301: 'Masai', 302: 'Mausoleum', 303: 'Mausolus', 304: 'May', 305: 'Mayan', 306: 'Medieval', 307: 'Mediterranean', 308: 'Mexico', 309: 'Michoacán', 310: 'Middle', 311: 'Migration', 312: 'Mind', 313: 'Misiones', 314: 'Modern', 315: 'Mons', 316: 'Monument', 317: 'Moon', 318: 'Morning', 319: 'Mosul', 320: 'Mount', 321: 'Mountain', 322: 'Museum', 323: 'México', 324: 'Nanjing', 325: 'National', 326: 'Natural', 327: 'Nature', 328: 'Near', 329: 'Nebraska', 330: 'Neolithic', 331: 'Nepal', 332: 'Netherlands', 333: 'Nevada', 334: 'New', 335: 'New7Wonders', 336: 'Nineveh', 337: 'Ninh', 338: 'North', 339: 'Northern', 340: 'November', 341: 'October', 342: 'Old', 343: 'Olympia', 344: 'Olympus', 345: 'One', 346: 'Ontario', 347: 'Other', 348: 'Pacific', 349: 'Palace', 350: 'Palau', 351: 'Palawan', 352: 'Panama', 353: 'Papahānaumokuākea', 354: 'Paraguay', 355: 'Paraná', 356: 'Parícutin', 357: 'Paz', 358: 'Peninsula', 359: 'Peru', 360: 'Petra', 361: 'Philippines', 362: 'Phrase', 363: 'Picchu', 364: 'Pisa', 365: 'Polar', 366: 'Porcelain', 367: 'Potala', 368: 'Present-day', 369: 'Princesa', 370: 'Protection', 371: 'Province', 372: 'Puerto', 373: 'Pyramid', 374: 'Pyramids', 375: 'Qatar', 376: 'Qinhuai', 377: 'Queensland', 378: 'Quảng', 379: 'Recent', 380: 'Red', 381: 'Redeemer', 382: 'Reef', 383: 'Republic', 384: 'Rhodes', 385: 'Rings', 386: 'Rio', 387: 'River', 388: 'Rock', 389: 'Rome', 390: 'Russia', 391: 'SS', 392: 'San', 393: 'Saturn', 394: 'Saudi', 395: 'Saône-et-Loire', 396: 'Scotland', 397: 'Sea', 398: 'Selçuk', 399: 'Serengeti', 400: 'Seven', 401: 'Shoqafa', 402: 'Significance', 403: 'Similar', 404: 'Since', 405: 'Society', 406: 'Solar', 407: 'Some', 408: 'Sophia', 409: 'South', 410: 'Spot', 411: 'State', 412: 'States', 413: 'Statue', 414: 'Stonehenge', 415: 'Strait', 416: 'Sudan', 417: 'Sun', 418: 'Suriname', 419: 'Swiss', 420: 'System', 421: 'TV', 422: 'Table', 423: 'Taj', 424: 'Tallest', 425: 'Tanzania', 426: 'Temple', 427: 'The', 428: 'These', 429: 'This', 430: 'Thomas', 431: 'Tibet', 432: 'Today', 433: 'Toronto', 434: 'Tower', 435: 'Town', 436: 'Tunnel', 437: 'Turkey', 438: 'Typically', 439: 'USA', 440: 'Underground', 441: 'Underwater', 442: 'United', 443: 'Urubamba', 444: 'Utah', 445: 'Various', 446: 'Venezuela', 447: 'Victoria', 448: 'Vietnam', 449: 'Vigan', 450: 'Wall', 451: 'Washington', 452: 'Wikipedia', 453: 'Wiltshire', 454: 'Wonder', 455: 'Wonders', 456: 'Works', 457: 'World', 458: 'Worldwide', 459: 'Wyoming', 460: 'Yemen', 461: 'York', 462: 'Yucatán', 463: 'Zambia', 464: 'Zeeland', 465: 'Zeus', 466: 'Zimbabwe', 467: 'Zuiderzee', 468: '[10]', 469: '[11][12]', 470: '[14]', 471: '[15]', 472: '[17]', 473: '[18][19]', 474: '[1]', 475: '[22]', 476: '[23]', 477: '[24]', 478: '[2]', 479: '[3]', 480: '[4][5]', 481: '[8]', 482: '[9]', 483: 'a', 484: 'about', 485: 'achievements', 486: 'across', 487: 'actor', 488: 'actually', 489: 'added', 490: 'after', 491: 'aired', 492: 'also', 493: 'among', 494: 'amphitheatre', 495: 'an', 496: 'ancient', 497: 'and', 498: 'announced', 499: 'annual', 500: 'another', 501: 'anticyclonic', 502: 'antiquity', 503: 'antiquity;', 504: 'any', 505: 'are', 506: 'are:[3][4][6][7]', 507: 'areas', 508: 'around', 509: 'article', 510: 'article:', 511: 'artificial', 512: 'artist', 513: 'as', 514: 'asteroid', 515: 'at', 516: 'audience', 517: 'author', 518: 'authors', 519: 'bank', 520: 'based', 521: 'be', 522: 'because', 523: 'become', 524: 'been', 525: 'believed', 526: 'bell', 527: 'below', 528: 'belt', 529: 'between', 530: 'bodies', 531: 'book', 532: 'border', 533: 'bordered', 534: 'borders', 535: 'both', 536: 'bottom', 537: 'bridge', 538: 'brought', 539: 'building', 540: 'built', 541: 'but', 542: 'by', 543: 'c', 544: 'called', 545: 'campaign', 546: 'candidate', 547: 'candidates', 548: 'caps', 549: 'catalogue', 550: 'cathedral', 551: 'centre', 552: 'centuries', 553: 'century', 554: 'choose', 555: 'chosen', 556: 'cities:', 557: 'city', 558: 'civil', 559: 'classic', 560: 'classical', 561: 'coast', 562: 'compiled', 563: 'completed', 564: 'complex', 565: 'composed', 566: 'comprise', 567: 'concept', 568: 'connecting', 569: 'consensus', 570: 'considered', 571: 'construction', 572: 'contemporary', 573: 'continuous', 574: 'corporation', 575: 'create', 576: 'created', 577: 'creating', 578: 'creations', 579: 'crossing', 580: 'currently', 581: 'dated', 582: 'dating', 583: 'day', 584: 'de', 585: 'debate', 586: 'dedicated', 587: 'defensive', 588: 'depicted', 589: 'determined', 590: 'did', 591: 'difficult', 592: 'disambiguation', 593: 'divers', 594: 'docudrama', 595: 'documenting', 596: 'drawn', 597: 'during', 598: 'earlier', 599: 'earliest', 600: 'early', 601: 'eastern', 602: 'effort', 603: 'eighth', 604: 'emulated', 605: 'encyclopedia', 606: 'energy', 607: 'engineering', 608: 'enormous', 609: 'entire', 610: 'era', 611: 'eras', 612: 'ever', 613: 'except', 614: 'existence', 615: 'existing', 616: 'exists', 617: 'exploring', 618: 'external', 619: 'facility', 620: 'feats', 621: 'features', 622: 'feedback', 623: 'film', 624: 'finished', 625: 'first', 626: 'five', 627: 'for', 628: 'form', 629: 'fortification', 630: 'fortifications', 631: 'free', 632: 'freestanding', 633: 'from', 634: 'funerary', 635: 'generation[13]', 636: 'global', 637: 'great', 638: 'greatest', 639: 'group', 640: 'guidebooks', 641: 'harbor', 642: 'has', 643: 'have', 644: 'hemisphere', 645: 'henge', 646: 'high-latitude', 647: 'historian', 648: 'historical', 649: 'honorary', 650: 'how', 651: 'however', 652: 'human-built', 653: 'human-made', 654: 'hydraulic', 655: 'hydroelectric', 656: 'hydrothermal', 657: 'ice', 658: 'iconic', 659: 'in', 660: 'include:', 661: 'included', 662: 'includes', 663: 'including', 664: 'initiative', 665: 'innumerable', 666: 'into', 667: 'invented', 668: 'invites', 669: 'is', 670: 'island', 671: 'islands', 672: 'it', 673: 'judges', 674: 'km', 675: 'known', 676: 'large', 677: 'largest', 678: 'later', 679: 'least', 680: 'left', 681: 'line', 682: 'list', 683: 'list[s]', 684: 'listed', 685: 'lists', 686: 'located', 687: 'location', 688: 'made', 689: 'magazine', 690: 'main', 691: 'many', 692: 'marine', 693: 'massive', 694: 'medieval', 695: 'millennium', 696: 'modern', 697: 'monastery', 698: 'monument', 699: 'monuments', 700: 'moon', 701: 'mosque', 702: 'most', 703: 'mountain', 704: 'much', 705: 'name', 706: 'names', 707: 'national', 708: 'natural', 709: 'near', 710: 'networks', 711: 'newspaper', 712: 'no', 713: 'non-profit', 714: 'north', 715: 'northern', 716: 'not', 717: 'notable', 718: 'number', 719: 'ocean', 720: 'oceangoing', 721: 'oceans', 722: 'oceans;', 723: 'of', 724: 'off', 725: 'oldest', 726: 'on', 727: 'one', 728: 'online', 729: 'only', 730: 'opened', 731: 'operating', 732: 'opposed', 733: 'or', 734: 'orbits', 735: 'order', 736: 'organisations', 737: 'organized', 738: 'originally', 739: 'originated', 740: 'other', 741: 'over', 742: 'overlooking', 743: 'own', 744: 'pagoda', 745: 'panel', 746: 'passage', 747: 'passenger', 748: 'paying', 749: 'people', 750: 'perfection', 751: 'persistent', 752: 'phenomena', 753: 'places', 754: 'planet', 755: 'planetary', 756: 'planets', 757: 'plenty', 758: 'plus', 759: 'polar', 760: 'poll', 761: 'popular', 762: 'portion', 763: 'present', 764: 'present-day', 765: 'presented', 766: 'preservation', 767: 'producer', 768: 'project', 769: 'projects', 770: 'protection', 771: 'province', 772: 'public', 773: 'published', 774: 'rail', 775: 'railroad', 776: 'rainforest', 777: 'references', 778: 'refers', 779: 'reflected', 780: 'region', 781: 'regions', 782: 'remaining', 783: 'remarkable', 784: 'representative', 785: 'represented', 786: 'research', 787: 'response', 788: 'results', 789: 'revealed', 790: 'right', 791: 'rim', 792: 'ruins', 793: 's', 794: 'same', 795: 'scholar', 796: 'scientists', 797: 'searches', 798: 'see', 799: 'segments', 800: 'selection', 801: 'series', 802: 'serving', 803: 'seven', 804: 'seven-part', 805: 'sewerage', 806: 'shield', 807: 'shore', 808: 'should', 809: 'show', 810: 'sightseers', 811: 'similar', 812: 'since', 813: 'six', 814: 'small', 815: 'solid', 816: 'some', 817: 'sometimes', 818: 'south', 819: 'southern', 820: 'span', 821: 'spanning', 822: 'spectacular', 823: 'star', 824: 'started', 825: 'state', 826: 'steamship', 827: 'still', 828: 'stories', 829: 'storm', 830: 'structure', 831: 'structures', 832: 'such', 833: 'suggesting', 834: 'surface', 835: 'survived', 836: 'suspension', 837: 'system', 838: 'tallest', 839: 'television', 840: 'telling', 841: 'terms', 842: 'than', 843: 'that', 844: 'the', 845: 'their', 846: 'them', 847: 'there', 848: 'these', 849: 'they', 850: 'things', 851: 'third', 852: 'this', 853: 'through', 854: 'throughout', 855: 'times', 856: 'to', 857: 'together', 858: 'top', 859: 'tower', 860: 'tradition', 861: 'traditional', 862: 'transcontinental', 863: 'tribute', 864: 'try', 865: 'tunnel', 866: 'type', 867: 'undersea', 868: 'undertaken', 869: 'underwater', 870: 'unlikely', 871: 'until', 872: 'up', 873: 'update', 874: 'uses', 875: 'van', 876: 'various', 877: 'vents', 878: 'versions', 879: 'vessels', 880: 'video', 881: 'viewer', 882: 'viewer-chosen', 883: 'volcano', 884: 'vote', 885: 'votes', 886: 'was', 887: 'waterway', 888: 'well', 889: 'were', 890: 'were:', 891: 'western', 892: 'which', 893: 'winners', 894: 'with', 895: 'wonder', 896: 'wonderful', 897: 'wonders', 898: 'word', 899: 'works', 900: 'world', 901: 'worldwide', 902: 'worthy', 903: 'writers', 904: 'writings', 905: 'wrote', 906: '–'}\n"
          ]
        }
      ]
    },
    {
      "cell_type": "code",
      "source": [
        "test_txt = \"right scientists results............\"\n",
        "tknzr.encode(test_txt)"
      ],
      "metadata": {
        "colab": {
          "base_uri": "https://localhost:8080/"
        },
        "id": "vGEtO74H93hZ",
        "outputId": "f9266690-a758-4245-c76c-20089ab9136d"
      },
      "execution_count": null,
      "outputs": [
        {
          "output_type": "stream",
          "name": "stdout",
          "text": [
            "preprocessed_text -- ['right', 'scientists', 'results', '.', '.', '.', '.', '.', '.', '.', '.', '.', '.', '.', '.']\n"
          ]
        },
        {
          "output_type": "execute_result",
          "data": {
            "text/plain": [
              "[790, 796, 788, 5, 5, 5, 5, 5, 5, 5, 5, 5, 5, 5, 5]"
            ]
          },
          "metadata": {},
          "execution_count": 109
        }
      ]
    },
    {
      "cell_type": "code",
      "source": [
        "test_ids = [790, 796, 788, 5, 5, 5, 5, 5, 5, 5, 5, 5, 5, 5, 5]\n",
        "tknzr.decode(test_ids)"
      ],
      "metadata": {
        "colab": {
          "base_uri": "https://localhost:8080/"
        },
        "id": "L_RXHLUV-JZ_",
        "outputId": "daa3b0bd-8476-4179-bdf8-60cb6531d6d6"
      },
      "execution_count": null,
      "outputs": [
        {
          "output_type": "execute_result",
          "data": {
            "text/plain": [
              "'right scientists results............'"
            ],
            "application/vnd.google.colaboratory.intrinsic+json": {
              "type": "string"
            }
          },
          "metadata": {},
          "execution_count": 110
        }
      ]
    },
    {
      "cell_type": "code",
      "source": [],
      "metadata": {
        "id": "wOrRhZqZAaaT"
      },
      "execution_count": null,
      "outputs": []
    },
    {
      "cell_type": "code",
      "source": [],
      "metadata": {
        "id": "jE5ceqxLAbSH"
      },
      "execution_count": null,
      "outputs": []
    },
    {
      "cell_type": "markdown",
      "source": [
        "##**BPE - Byte Pair Encoding**"
      ],
      "metadata": {
        "id": "FeJyUboCLnsL"
      }
    },
    {
      "cell_type": "code",
      "source": [
        "# !pip install tiktoken\n",
        "import tiktoken"
      ],
      "metadata": {
        "id": "Q1qJX0I4AbI4"
      },
      "execution_count": null,
      "outputs": []
    },
    {
      "cell_type": "code",
      "source": [
        "tokenizer = tiktoken.get_encoding(\"gpt2\")"
      ],
      "metadata": {
        "id": "J1SLUCZ5Aevj"
      },
      "execution_count": null,
      "outputs": []
    },
    {
      "cell_type": "code",
      "source": [
        "tokenizer.decode([3506, 5519, 2482])"
      ],
      "metadata": {
        "colab": {
          "base_uri": "https://localhost:8080/"
        },
        "id": "JRAkGKanAtGi",
        "outputId": "e0bf715e-e220-417d-eee7-6e8eda481784"
      },
      "execution_count": null,
      "outputs": [
        {
          "output_type": "execute_result",
          "data": {
            "text/plain": [
              "'right scientists results'"
            ],
            "application/vnd.google.colaboratory.intrinsic+json": {
              "type": "string"
            }
          },
          "metadata": {},
          "execution_count": 118
        }
      ]
    },
    {
      "cell_type": "code",
      "source": [],
      "metadata": {
        "id": "GgM9aqpfA5vh"
      },
      "execution_count": null,
      "outputs": []
    },
    {
      "cell_type": "code",
      "source": [
        "text = \"Hello, do you like tea? <|endoftext|> In the sunlit terra\"\n",
        "tkn_ids = tokenizer.encode(text, allowed_special={\"<|endoftext|>\"})\n",
        "print(tkn_ids)"
      ],
      "metadata": {
        "colab": {
          "base_uri": "https://localhost:8080/"
        },
        "id": "hoGEJ58rBQAo",
        "outputId": "f25480e1-7d0f-444d-c02b-87dd91d9226e"
      },
      "execution_count": null,
      "outputs": [
        {
          "output_type": "stream",
          "name": "stdout",
          "text": [
            "[15496, 11, 466, 345, 588, 8887, 30, 220, 50256, 554, 262, 4252, 18250, 1059, 430]\n"
          ]
        }
      ]
    },
    {
      "cell_type": "code",
      "source": [
        "tokenizer.decode(tkn_ids)"
      ],
      "metadata": {
        "colab": {
          "base_uri": "https://localhost:8080/"
        },
        "id": "IboNoqgGBiTw",
        "outputId": "e7fa1898-3460-4761-ad77-623126824c6e"
      },
      "execution_count": null,
      "outputs": [
        {
          "output_type": "execute_result",
          "data": {
            "text/plain": [
              "'Hello, do you like tea? <|endoftext|> In the sunlit terra'"
            ],
            "application/vnd.google.colaboratory.intrinsic+json": {
              "type": "string"
            }
          },
          "metadata": {},
          "execution_count": 120
        }
      ]
    },
    {
      "cell_type": "code",
      "source": [
        "gibberish_txt = \"awkyummy simplysuperb neetlykept\"\n",
        "tkn_ids = tokenizer.encode(gibberish_txt)\n",
        "print(tkn_ids)"
      ],
      "metadata": {
        "colab": {
          "base_uri": "https://localhost:8080/"
        },
        "id": "sP-OiQjKBphB",
        "outputId": "b1a70a1f-625f-4b8c-fec1-74706b84a6b7"
      },
      "execution_count": null,
      "outputs": [
        {
          "output_type": "stream",
          "name": "stdout",
          "text": [
            "[707, 2584, 13513, 2391, 16668, 65, 497, 316, 306, 45089]\n"
          ]
        }
      ]
    },
    {
      "cell_type": "code",
      "source": [
        "tokenizer.decode(tkn_ids)"
      ],
      "metadata": {
        "colab": {
          "base_uri": "https://localhost:8080/"
        },
        "id": "_HgvlU0VB6Lo",
        "outputId": "55695463-c112-4bef-eda9-7f26e54ad500"
      },
      "execution_count": null,
      "outputs": [
        {
          "output_type": "execute_result",
          "data": {
            "text/plain": [
              "'awkyummy simplysuperb neetlykept'"
            ],
            "application/vnd.google.colaboratory.intrinsic+json": {
              "type": "string"
            }
          },
          "metadata": {},
          "execution_count": 122
        }
      ]
    },
    {
      "cell_type": "code",
      "source": [
        "tokenizer.encode(\"qwghnyklmnaorcbddbcj\")"
      ],
      "metadata": {
        "colab": {
          "base_uri": "https://localhost:8080/"
        },
        "id": "nWBUG156CCrw",
        "outputId": "6cf0483b-aa10-43c3-811e-f4e3a02877bf"
      },
      "execution_count": null,
      "outputs": [
        {
          "output_type": "execute_result",
          "data": {
            "text/plain": [
              "[80, 86, 456, 3281, 41582, 76, 2616, 273, 21101, 1860, 15630, 73]"
            ]
          },
          "metadata": {},
          "execution_count": 123
        }
      ]
    },
    {
      "cell_type": "code",
      "source": [
        "tokenizer.decode([80, 86, 456, 3281, 41582, 76, 2616, 273, 21101, 1860, 15630, 73])"
      ],
      "metadata": {
        "colab": {
          "base_uri": "https://localhost:8080/"
        },
        "id": "6hQXSOuKCJPi",
        "outputId": "bc975217-8f6b-4c34-c011-8a760ecdd991"
      },
      "execution_count": null,
      "outputs": [
        {
          "output_type": "execute_result",
          "data": {
            "text/plain": [
              "'qwghnyklmnaorcbddbcj'"
            ],
            "application/vnd.google.colaboratory.intrinsic+json": {
              "type": "string"
            }
          },
          "metadata": {},
          "execution_count": 127
        }
      ]
    },
    {
      "cell_type": "code",
      "source": [
        "for i in [707, 2584, 13513, 2391, 16668, 65, 497, 316, 306, 45089]:\n",
        "  print(tokenizer.decode([i]))"
      ],
      "metadata": {
        "colab": {
          "base_uri": "https://localhost:8080/"
        },
        "id": "eZv1qvyNCNXS",
        "outputId": "8a62ae2a-4ecf-40c2-e413-3ebf8db78309"
      },
      "execution_count": null,
      "outputs": [
        {
          "output_type": "stream",
          "name": "stdout",
          "text": [
            "aw\n",
            "ky\n",
            "ummy\n",
            " simply\n",
            "super\n",
            "b\n",
            " ne\n",
            "et\n",
            "ly\n",
            "kept\n"
          ]
        }
      ]
    },
    {
      "cell_type": "code",
      "source": [
        "tokenizer.encode(\"Akwirwier\")"
      ],
      "metadata": {
        "colab": {
          "base_uri": "https://localhost:8080/"
        },
        "id": "C4GcVsciDOiQ",
        "outputId": "8158e920-a1a1-464f-9bcf-748e17cc0e4a"
      },
      "execution_count": null,
      "outputs": [
        {
          "output_type": "execute_result",
          "data": {
            "text/plain": [
              "[33901, 86, 343, 86, 959]"
            ]
          },
          "metadata": {},
          "execution_count": 130
        }
      ]
    },
    {
      "cell_type": "code",
      "source": [],
      "metadata": {
        "id": "4_E2e54WKoYQ"
      },
      "execution_count": null,
      "outputs": []
    },
    {
      "cell_type": "code",
      "source": [],
      "metadata": {
        "id": "EADvb9KfKoJK"
      },
      "execution_count": null,
      "outputs": []
    },
    {
      "cell_type": "markdown",
      "source": [
        "##**2.6 Data sampling with a sliding window**\n",
        "it's the process of creating input seq's and target words"
      ],
      "metadata": {
        "id": "LTdYKuvjKp4T"
      }
    },
    {
      "cell_type": "code",
      "source": [
        "with open(\"/content/drive/MyDrive/the-verdict.txt\",\"r\",encoding=\"utf-8\") as f:\n",
        "  raw_text = f.read()\n",
        "\n",
        "raw_text"
      ],
      "metadata": {
        "colab": {
          "base_uri": "https://localhost:8080/",
          "height": 140
        },
        "id": "cQxJmaxjKu3A",
        "outputId": "d9c1cc03-dd8c-4310-e449-b446e97aa69c"
      },
      "execution_count": null,
      "outputs": [
        {
          "output_type": "execute_result",
          "data": {
            "text/plain": [
              "'I HAD always thought Jack Gisburn rather a cheap genius--though a good fellow enough--so it was no great surprise to me to hear that, in the height of his glory, he had dropped his painting, married a rich widow, and established himself in a villa on the Riviera. (Though I rather thought it would have been Rome or Florence.)\\n\\n\"The height of his glory\"--that was what the women called it. I can hear Mrs. Gideon Thwing--his last Chicago sitter--deploring his unaccountable abdication. \"Of course it\\'s going to send the value of my picture \\'way up; but I don\\'t think of that, Mr. Rickham--the loss to Arrt is all I think of.\" The word, on Mrs. Thwing\\'s lips, multiplied its _rs_ as though they were reflected in an endless vista of mirrors. And it was not only the Mrs. Thwings who mourned. Had not the exquisite Hermia Croft, at the last Grafton Gallery show, stopped me before Gisburn\\'s \"Moon-dancers\" to say, with tears in her eyes: \"We shall not look upon its like again\"?\\n\\nWell!--even through the prism of Hermia\\'s tears I felt able to face the fact with equanimity. Poor Jack Gisburn! The women had made him--it was fitting that they should mourn him. Among his own sex fewer regrets were heard, and in his own trade hardly a murmur. Professional jealousy? Perhaps. If it were, the honour of the craft was vindicated by little Claude Nutley, who, in all good faith, brought out in the Burlington a very handsome \"obituary\" on Jack--one of those showy articles stocked with random technicalities that I have heard (I won\\'t say by whom) compared to Gisburn\\'s painting. And so--his resolve being apparently irrevocable--the discussion gradually died out, and, as Mrs. Thwing had predicted, the price of \"Gisburns\" went up.\\n\\nIt was not till three years later that, in the course of a few weeks\\' idling on the Riviera, it suddenly occurred to me to wonder why Gisburn had given up his painting. On reflection, it really was a tempting problem. To accuse his wife would have been too easy--his fair sitters had been denied the solace of saying that Mrs. Gisburn had \"dragged him down.\" For Mrs. Gisburn--as such--had not existed till nearly a year after Jack\\'s resolve had been taken. It might be that he had married her--since he liked his ease--because he didn\\'t want to go on painting; but it would have been hard to prove that he had given up his painting because he had married her.\\n\\nOf course, if she had not dragged him down, she had equally, as Miss Croft contended, failed to \"lift him up\"--she had not led him back to the easel. To put the brush into his hand again--what a vocation for a wife! But Mrs. Gisburn appeared to have disdained it--and I felt it might be interesting to find out why.\\n\\nThe desultory life of the Riviera lends itself to such purely academic speculations; and having, on my way to Monte Carlo, caught a glimpse of Jack\\'s balustraded terraces between the pines, I had myself borne thither the next day.\\n\\nI found the couple at tea beneath their palm-trees; and Mrs. Gisburn\\'s welcome was so genial that, in the ensuing weeks, I claimed it frequently. It was not that my hostess was \"interesting\": on that point I could have given Miss Croft the fullest reassurance. It was just because she was _not_ interesting--if I may be pardoned the bull--that I found her so. For Jack, all his life, had been surrounded by interesting women: they had fostered his art, it had been reared in the hot-house of their adulation. And it was therefore instructive to note what effect the \"deadening atmosphere of mediocrity\" (I quote Miss Croft) was having on him.\\n\\nI have mentioned that Mrs. Gisburn was rich; and it was immediately perceptible that her husband was extracting from this circumstance a delicate but substantial satisfaction. It is, as a rule, the people who scorn money who get most out of it; and Jack\\'s elegant disdain of his wife\\'s big balance enabled him, with an appearance of perfect good-breeding, to transmute it into objects of art and luxury. To the latter, I must add, he remained relatively indifferent; but he was buying Renaissance bronzes and eighteenth-century pictures with a discrimination that bespoke the amplest resources.\\n\\n\"Money\\'s only excuse is to put beauty into circulation,\" was one of the axioms he laid down across the Sevres and silver of an exquisitely appointed luncheon-table, when, on a later day, I had again run over from Monte Carlo; and Mrs. Gisburn, beaming on him, added for my enlightenment: \"Jack is so morbidly sensitive to every form of beauty.\"\\n\\nPoor Jack! It had always been his fate to have women say such things of him: the fact should be set down in extenuation. What struck me now was that, for the first time, he resented the tone. I had seen him, so often, basking under similar tributes--was it the conjugal note that robbed them of their savour? No--for, oddly enough, it became apparent that he was fond of Mrs. Gisburn--fond enough not to see her absurdity. It was his own absurdity he seemed to be wincing under--his own attitude as an object for garlands and incense.\\n\\n\"My dear, since I\\'ve chucked painting people don\\'t say that stuff about me--they say it about Victor Grindle,\" was his only protest, as he rose from the table and strolled out onto the sunlit terrace.\\n\\nI glanced after him, struck by his last word. Victor Grindle was, in fact, becoming the man of the moment--as Jack himself, one might put it, had been the man of the hour. The younger artist was said to have formed himself at my friend\\'s feet, and I wondered if a tinge of jealousy underlay the latter\\'s mysterious abdication. But no--for it was not till after that event that the _rose Dubarry_ drawing-rooms had begun to display their \"Grindles.\"\\n\\nI turned to Mrs. Gisburn, who had lingered to give a lump of sugar to her spaniel in the dining-room.\\n\\n\"Why _has_ he chucked painting?\" I asked abruptly.\\n\\nShe raised her eyebrows with a hint of good-humoured surprise.\\n\\n\"Oh, he doesn\\'t _have_ to now, you know; and I want him to enjoy himself,\" she said quite simply.\\n\\nI looked about the spacious white-panelled room, with its _famille-verte_ vases repeating the tones of the pale damask curtains, and its eighteenth-century pastels in delicate faded frames.\\n\\n\"Has he chucked his pictures too? I haven\\'t seen a single one in the house.\"\\n\\nA slight shade of constraint crossed Mrs. Gisburn\\'s open countenance. \"It\\'s his ridiculous modesty, you know. He says they\\'re not fit to have about; he\\'s sent them all away except one--my portrait--and that I have to keep upstairs.\"\\n\\nHis ridiculous modesty--Jack\\'s modesty about his pictures? My curiosity was growing like the bean-stalk. I said persuasively to my hostess: \"I must really see your portrait, you know.\"\\n\\nShe glanced out almost timorously at the terrace where her husband, lounging in a hooded chair, had lit a cigar and drawn the Russian deerhound\\'s head between his knees.\\n\\n\"Well, come while he\\'s not looking,\" she said, with a laugh that tried to hide her nervousness; and I followed her between the marble Emperors of the hall, and up the wide stairs with terra-cotta nymphs poised among flowers at each landing.\\n\\nIn the dimmest corner of her boudoir, amid a profusion of delicate and distinguished objects, hung one of the familiar oval canvases, in the inevitable garlanded frame. The mere outline of the frame called up all Gisburn\\'s past!\\n\\nMrs. Gisburn drew back the window-curtains, moved aside a _jardiniere_ full of pink azaleas, pushed an arm-chair away, and said: \"If you stand here you can just manage to see it. I had it over the mantel-piece, but he wouldn\\'t let it stay.\"\\n\\nYes--I could just manage to see it--the first portrait of Jack\\'s I had ever had to strain my eyes over! Usually they had the place of honour--say the central panel in a pale yellow or _rose Dubarry_ drawing-room, or a monumental easel placed so that it took the light through curtains of old Venetian point. The more modest place became the picture better; yet, as my eyes grew accustomed to the half-light, all the characteristic qualities came out--all the hesitations disguised as audacities, the tricks of prestidigitation by which, with such consummate skill, he managed to divert attention from the real business of the picture to some pretty irrelevance of detail. Mrs. Gisburn, presenting a neutral surface to work on--forming, as it were, so inevitably the background of her own picture--had lent herself in an unusual degree to the display of this false virtuosity. The picture was one of Jack\\'s \"strongest,\" as his admirers would have put it--it represented, on his part, a swelling of muscles, a congesting of veins, a balancing, straddling and straining, that reminded one of the circus-clown\\'s ironic efforts to lift a feather. It met, in short, at every point the demand of lovely woman to be painted \"strongly\" because she was tired of being painted \"sweetly\"--and yet not to lose an atom of the sweetness.\\n\\n\"It\\'s the last he painted, you know,\" Mrs. Gisburn said with pardonable pride. \"The last but one,\" she corrected herself--\"but the other doesn\\'t count, because he destroyed it.\"\\n\\n\"Destroyed it?\" I was about to follow up this clue when I heard a footstep and saw Jack himself on the threshold.\\n\\nAs he stood there, his hands in the pockets of his velveteen coat, the thin brown waves of hair pushed back from his white forehead, his lean sunburnt cheeks furrowed by a smile that lifted the tips of a self-confident moustache, I felt to what a degree he had the same quality as his pictures--the quality of looking cleverer than he was.\\n\\nHis wife glanced at him deprecatingly, but his eyes travelled past her to the portrait.\\n\\n\"Mr. Rickham wanted to see it,\" she began, as if excusing herself. He shrugged his shoulders, still smiling.\\n\\n\"Oh, Rickham found me out long ago,\" he said lightly; then, passing his arm through mine: \"Come and see the rest of the house.\"\\n\\nHe showed it to me with a kind of naive suburban pride: the bath-rooms, the speaking-tubes, the dress-closets, the trouser-presses--all the complex simplifications of the millionaire\\'s domestic economy. And whenever my wonder paid the expected tribute he said, throwing out his chest a little: \"Yes, I really don\\'t see how people manage to live without that.\"\\n\\nWell--it was just the end one might have foreseen for him. Only he was, through it all and in spite of it all--as he had been through, and in spite of, his pictures--so handsome, so charming, so disarming, that one longed to cry out: \"Be dissatisfied with your leisure!\" as once one had longed to say: \"Be dissatisfied with your work!\"\\n\\nBut, with the cry on my lips, my diagnosis suffered an unexpected check.\\n\\n\"This is my own lair,\" he said, leading me into a dark plain room at the end of the florid vista. It was square and brown and leathery: no \"effects\"; no bric-a-brac, none of the air of posing for reproduction in a picture weekly--above all, no least sign of ever having been used as a studio.\\n\\nThe fact brought home to me the absolute finality of Jack\\'s break with his old life.\\n\\n\"Don\\'t you ever dabble with paint any more?\" I asked, still looking about for a trace of such activity.\\n\\n\"Never,\" he said briefly.\\n\\n\"Or water-colour--or etching?\"\\n\\nHis confident eyes grew dim, and his cheeks paled a little under their handsome sunburn.\\n\\n\"Never think of it, my dear fellow--any more than if I\\'d never touched a brush.\"\\n\\nAnd his tone told me in a flash that he never thought of anything else.\\n\\nI moved away, instinctively embarrassed by my unexpected discovery; and as I turned, my eye fell on a small picture above the mantel-piece--the only object breaking the plain oak panelling of the room.\\n\\n\"Oh, by Jove!\" I said.\\n\\nIt was a sketch of a donkey--an old tired donkey, standing in the rain under a wall.\\n\\n\"By Jove--a Stroud!\" I cried.\\n\\nHe was silent; but I felt him close behind me, breathing a little quickly.\\n\\n\"What a wonder! Made with a dozen lines--but on everlasting foundations. You lucky chap, where did you get it?\"\\n\\nHe answered slowly: \"Mrs. Stroud gave it to me.\"\\n\\n\"Ah--I didn\\'t know you even knew the Strouds. He was such an inflexible hermit.\"\\n\\n\"I didn\\'t--till after. . . . She sent for me to paint him when he was dead.\"\\n\\n\"When he was dead? You?\"\\n\\nI must have let a little too much amazement escape through my surprise, for he answered with a deprecating laugh: \"Yes--she\\'s an awful simpleton, you know, Mrs. Stroud. Her only idea was to have him done by a fashionable painter--ah, poor Stroud! She thought it the surest way of proclaiming his greatness--of forcing it on a purblind public. And at the moment I was _the_ fashionable painter.\"\\n\\n\"Ah, poor Stroud--as you say. Was _that_ his history?\"\\n\\n\"That was his history. She believed in him, gloried in him--or thought she did. But she couldn\\'t bear not to have all the drawing-rooms with her. She couldn\\'t bear the fact that, on varnishing days, one could always get near enough to see his pictures. Poor woman! She\\'s just a fragment groping for other fragments. Stroud is the only whole I ever knew.\"\\n\\n\"You ever knew? But you just said--\"\\n\\nGisburn had a curious smile in his eyes.\\n\\n\"Oh, I knew him, and he knew me--only it happened after he was dead.\"\\n\\nI dropped my voice instinctively. \"When she sent for you?\"\\n\\n\"Yes--quite insensible to the irony. She wanted him vindicated--and by me!\"\\n\\nHe laughed again, and threw back his head to look up at the sketch of the donkey. \"There were days when I couldn\\'t look at that thing--couldn\\'t face it. But I forced myself to put it here; and now it\\'s cured me--cured me. That\\'s the reason why I don\\'t dabble any more, my dear Rickham; or rather Stroud himself is the reason.\"\\n\\nFor the first time my idle curiosity about my companion turned into a serious desire to understand him better.\\n\\n\"I wish you\\'d tell me how it happened,\" I said.\\n\\nHe stood looking up at the sketch, and twirling between his fingers a cigarette he had forgotten to light. Suddenly he turned toward me.\\n\\n\"I\\'d rather like to tell you--because I\\'ve always suspected you of loathing my work.\"\\n\\nI made a deprecating gesture, which he negatived with a good-humoured shrug.\\n\\n\"Oh, I didn\\'t care a straw when I believed in myself--and now it\\'s an added tie between us!\"\\n\\nHe laughed slightly, without bitterness, and pushed one of the deep arm-chairs forward. \"There: make yourself comfortable--and here are the cigars you like.\"\\n\\nHe placed them at my elbow and continued to wander up and down the room, stopping now and then beneath the picture.\\n\\n\"How it happened? I can tell you in five minutes--and it didn\\'t take much longer to happen. . . . I can remember now how surprised and pleased I was when I got Mrs. Stroud\\'s note. Of course, deep down, I had always _felt_ there was no one like him--only I had gone with the stream, echoed the usual platitudes about him, till I half got to think he was a failure, one of the kind that are left behind. By Jove, and he _was_ left behind--because he had come to stay! The rest of us had to let ourselves be swept along or go under, but he was high above the current--on everlasting foundations, as you say.\\n\\n\"Well, I went off to the house in my most egregious mood--rather moved, Lord forgive me, at the pathos of poor Stroud\\'s career of failure being crowned by the glory of my painting him! Of course I meant to do the picture for nothing--I told Mrs. Stroud so when she began to stammer something about her poverty. I remember getting off a prodigious phrase about the honour being _mine_--oh, I was princely, my dear Rickham! I was posing to myself like one of my own sitters.\\n\\n\"Then I was taken up and left alone with him. I had sent all my traps in advance, and I had only to set up the easel and get to work. He had been dead only twenty-four hours, and he died suddenly, of heart disease, so that there had been no preliminary work of destruction--his face was clear and untouched. I had met him once or twice, years before, and thought him insignificant and dingy. Now I saw that he was superb.\\n\\n\"I was glad at first, with a merely aesthetic satisfaction: glad to have my hand on such a \\'subject.\\' Then his strange life-likeness began to affect me queerly--as I blocked the head in I felt as if he were watching me do it. The sensation was followed by the thought: if he _were_ watching me, what would he say to my way of working? My strokes began to go a little wild--I felt nervous and uncertain.\\n\\n\"Once, when I looked up, I seemed to see a smile behind his close grayish beard--as if he had the secret, and were amusing himself by holding it back from me. That exasperated me still more. The secret? Why, I had a secret worth twenty of his! I dashed at the canvas furiously, and tried some of my bravura tricks. But they failed me, they crumbled. I saw that he wasn\\'t watching the showy bits--I couldn\\'t distract his attention; he just kept his eyes on the hard passages between. Those were the ones I had always shirked, or covered up with some lying paint. And how he saw through my lies!\\n\\n\"I looked up again, and caught sight of that sketch of the donkey hanging on the wall near his bed. His wife told me afterward it was the last thing he had done--just a note taken with a shaking hand, when he was down in Devonshire recovering from a previous heart attack. Just a note! But it tells his whole history. There are years of patient scornful persistence in every line. A man who had swum with the current could never have learned that mighty up-stream stroke. . . .\\n\\n\"I turned back to my work, and went on groping and muddling; then I looked at the donkey again. I saw that, when Stroud laid in the first stroke, he knew just what the end would be. He had possessed his subject, absorbed it, recreated it. When had I done that with any of my things? They hadn\\'t been born of me--I had just adopted them. . . .\\n\\n\"Hang it, Rickham, with that face watching me I couldn\\'t do another stroke. The plain truth was, I didn\\'t know where to put it--_I had never known_. Only, with my sitters and my public, a showy splash of colour covered up the fact--I just threw paint into their faces. . . . Well, paint was the one medium those dead eyes could see through--see straight to the tottering foundations underneath. Don\\'t you know how, in talking a foreign language, even fluently, one says half the time not what one wants to but what one can? Well--that was the way I painted; and as he lay there and watched me, the thing they called my \\'technique\\' collapsed like a house of cards. He didn\\'t sneer, you understand, poor Stroud--he just lay there quietly watching, and on his lips, through the gray beard, I seemed to hear the question: \\'Are you sure you know where you\\'re coming out?\\'\\n\\n\"If I could have painted that face, with that question on it, I should have done a great thing. The next greatest thing was to see that I couldn\\'t--and that grace was given me. But, oh, at that minute, Rickham, was there anything on earth I wouldn\\'t have given to have Stroud alive before me, and to hear him say: \\'It\\'s not too late--I\\'ll show you how\\'?\\n\\n\"It _was_ too late--it would have been, even if he\\'d been alive. I packed up my traps, and went down and told Mrs. Stroud. Of course I didn\\'t tell her _that_--it would have been Greek to her. I simply said I couldn\\'t paint him, that I was too moved. She rather liked the idea--she\\'s so romantic! It was that that made her give me the donkey. But she was terribly upset at not getting the portrait--she did so want him \\'done\\' by some one showy! At first I was afraid she wouldn\\'t let me off--and at my wits\\' end I suggested Grindle. Yes, it was I who started Grindle: I told Mrs. Stroud he was the \\'coming\\' man, and she told somebody else, and so it got to be true. . . . And he painted Stroud without wincing; and she hung the picture among her husband\\'s things. . . .\"\\n\\nHe flung himself down in the arm-chair near mine, laid back his head, and clasping his arms beneath it, looked up at the picture above the chimney-piece.\\n\\n\"I like to fancy that Stroud himself would have given it to me, if he\\'d been able to say what he thought that day.\"\\n\\nAnd, in answer to a question I put half-mechanically--\"Begin again?\" he flashed out. \"When the one thing that brings me anywhere near him is that I knew enough to leave off?\"\\n\\nHe stood up and laid his hand on my shoulder with a laugh. \"Only the irony of it is that I _am_ still painting--since Grindle\\'s doing it for me! The Strouds stand alone, and happen once--but there\\'s no exterminating our kind of art.\"'"
            ],
            "application/vnd.google.colaboratory.intrinsic+json": {
              "type": "string"
            }
          },
          "metadata": {},
          "execution_count": 136
        }
      ]
    },
    {
      "cell_type": "code",
      "source": [
        "enc_txt = tokenizer.encode(raw_text)\n",
        "enc_txt[:10]"
      ],
      "metadata": {
        "colab": {
          "base_uri": "https://localhost:8080/"
        },
        "id": "OHSJvQs4LFnR",
        "outputId": "e4a78914-3eed-4d93-d07d-5c51b9edf79d"
      },
      "execution_count": null,
      "outputs": [
        {
          "output_type": "execute_result",
          "data": {
            "text/plain": [
              "[40, 367, 2885, 1464, 1807, 3619, 402, 271, 10899, 2138]"
            ]
          },
          "metadata": {},
          "execution_count": 137
        }
      ]
    },
    {
      "cell_type": "code",
      "source": [
        "tokenizer.decode([40, 367, 2885, 1464, 1807, 3619, 402, 271, 10899, 2138])"
      ],
      "metadata": {
        "colab": {
          "base_uri": "https://localhost:8080/",
          "height": 35
        },
        "id": "nAhiIcMsLHm9",
        "outputId": "3069f2f7-4328-43e9-a69c-9d709131b517"
      },
      "execution_count": null,
      "outputs": [
        {
          "output_type": "execute_result",
          "data": {
            "text/plain": [
              "'I HAD always thought Jack Gisburn rather'"
            ],
            "application/vnd.google.colaboratory.intrinsic+json": {
              "type": "string"
            }
          },
          "metadata": {},
          "execution_count": 138
        }
      ]
    },
    {
      "cell_type": "code",
      "source": [
        "enc_sample = enc_txt[50:]\n",
        "context_size = 4\n",
        "x = enc_sample[:context_size]\n",
        "y = enc_sample[1:context_size]\n",
        "print(enc_sample[:10])\n",
        "print(x,y)\n",
        "print(tokenizer.decode(enc_sample[:10]))\n",
        "print(tokenizer.decode(x))\n",
        "print(tokenizer.decode(y))"
      ],
      "metadata": {
        "colab": {
          "base_uri": "https://localhost:8080/"
        },
        "id": "pN8p9Tz4Ldbq",
        "outputId": "ba038f43-2f17-4919-832b-3fa8eaa5f0d3"
      },
      "execution_count": null,
      "outputs": [
        {
          "output_type": "stream",
          "name": "stdout",
          "text": [
            "[290, 4920, 2241, 287, 257, 4489, 64, 319, 262, 34686]\n",
            "[290, 4920, 2241, 287] [4920, 2241, 287]\n",
            " and established himself in a villa on the Riv\n",
            " and established himself in\n",
            " established himself in\n"
          ]
        }
      ]
    },
    {
      "cell_type": "code",
      "source": [
        "for i in range(1,context_size+1):\n",
        "  context = enc_sample[:i]\n",
        "  desired = enc_sample[i:i+1]\n",
        "  print(tokenizer.decode(context),\"====>\" ,tokenizer.decode(desired))"
      ],
      "metadata": {
        "colab": {
          "base_uri": "https://localhost:8080/"
        },
        "id": "QHYal5JOMvDl",
        "outputId": "9456ef28-37a1-41dd-fd9b-ca8b89be6f66"
      },
      "execution_count": null,
      "outputs": [
        {
          "output_type": "stream",
          "name": "stdout",
          "text": [
            " and ====>  established\n",
            " and established ====>  himself\n",
            " and established himself ====>  in\n",
            " and established himself in ====>  a\n"
          ]
        }
      ]
    },
    {
      "cell_type": "code",
      "source": [
        "!pip3 install torch"
      ],
      "metadata": {
        "colab": {
          "base_uri": "https://localhost:8080/"
        },
        "id": "cAtryWZxSbc1",
        "outputId": "e81a51ab-e5d7-4379-f7a1-e5f397088156"
      },
      "execution_count": null,
      "outputs": [
        {
          "output_type": "stream",
          "name": "stdout",
          "text": [
            "Requirement already satisfied: torch in /usr/local/lib/python3.10/dist-packages (2.4.0+cu121)\n",
            "Requirement already satisfied: filelock in /usr/local/lib/python3.10/dist-packages (from torch) (3.15.4)\n",
            "Requirement already satisfied: typing-extensions>=4.8.0 in /usr/local/lib/python3.10/dist-packages (from torch) (4.12.2)\n",
            "Requirement already satisfied: sympy in /usr/local/lib/python3.10/dist-packages (from torch) (1.13.2)\n",
            "Requirement already satisfied: networkx in /usr/local/lib/python3.10/dist-packages (from torch) (3.3)\n",
            "Requirement already satisfied: jinja2 in /usr/local/lib/python3.10/dist-packages (from torch) (3.1.4)\n",
            "Requirement already satisfied: fsspec in /usr/local/lib/python3.10/dist-packages (from torch) (2024.6.1)\n",
            "Requirement already satisfied: MarkupSafe>=2.0 in /usr/local/lib/python3.10/dist-packages (from jinja2->torch) (2.1.5)\n",
            "Requirement already satisfied: mpmath<1.4,>=1.1.0 in /usr/local/lib/python3.10/dist-packages (from sympy->torch) (1.3.0)\n"
          ]
        }
      ]
    },
    {
      "cell_type": "code",
      "source": [
        "import torch\n",
        "from torch.utils.data import Dataset, DataLoader"
      ],
      "metadata": {
        "id": "Lev7fbrhW2-L"
      },
      "execution_count": null,
      "outputs": []
    },
    {
      "cell_type": "code",
      "source": [
        "class GPTDatasetV1(Dataset):\n",
        "  def __init__(self,text,tokenizer, max_length,stride):\n",
        "    self.text = text\n",
        "    self.tokenizer = tokenizer\n",
        "    self.max_length = max_length\n",
        "    self.stride = stride\n",
        "    self.input_ids = []\n",
        "    self.target_ids = []\n",
        "\n",
        "    token_ids = self.tokenizer.encode(self.text)\n",
        "    for i in range(0,len(token_ids)-self.max_length,self.stride):\n",
        "      input_chunks = token_ids[i:i+self.max_length]\n",
        "      target_chunks = token_ids[i+1:i+self.max_length+1]\n",
        "      self.input_ids.append(torch.tensor(input_chunks))\n",
        "      self.target_ids.append(torch.tensor(target_chunks))\n",
        "\n",
        "\n",
        "  def __len__(self):\n",
        "    return len(self.input_ids)\n",
        "\n",
        "  def __getitem__(self, idx):\n",
        "    return self.input_ids[idx], self.target_ids[idx]\n",
        "\n",
        "\n"
      ],
      "metadata": {
        "id": "BS2yxKRgXA64"
      },
      "execution_count": null,
      "outputs": []
    },
    {
      "cell_type": "code",
      "source": [
        "text = \"\"\"\n",
        "In Python, when working with classes, using self.input_ids.append(...) instead of just input_ids.append(...) is necessary to modify the instance variable input_ids of the class rather than a local variable. Let's break this down to understand the difference.\n",
        "\n",
        "Why Use self.input_ids.append(...)?\n",
        "Instance Variables vs. Local Variables:\n",
        "\n",
        "When you define self.input_ids in the __init__ method, it creates an instance variable that belongs to the instance of the class (self). This means self.input_ids is accessible throughout the entire instance of the class, and its state will be preserved across method calls.\n",
        "On the other hand, if you were to just use input_ids.append(...), you would be referring to a local variable named input_ids within the scope of the __init__ method. However, there is no such local variable named input_ids; only self.input_ids exists as an instance variable.\n",
        "Scope of Variables:\n",
        "\n",
        "self.input_ids is an instance variable that can be accessed from any method within the class.\n",
        "input_ids (without self) would be a local variable within the __init__ method, and using it would result in an UnboundLocalError because input_ids has not been defined locally. The only input_ids defined in your class is self.input_ids.\n",
        "Modifying Instance State:\n",
        "\n",
        "By using self.input_ids.append(...), you are appending to the list that is an attribute of the instance (self). This ensures that any other method within the class that accesses self.input_ids will see the changes made.\n",
        "If you use input_ids.append(...), even if input_ids were defined locally, it would only modify a local copy, and changes would not be reflected in the instance variable.\n",
        "An Example to Illustrate\n",
        "Consider the following simplified example to illustrate the difference:\"\"\""
      ],
      "metadata": {
        "id": "uKvUvo7eH-xY"
      },
      "execution_count": null,
      "outputs": []
    },
    {
      "cell_type": "code",
      "source": [
        "tokenizer = tiktoken.get_encoding(\"gpt2\")"
      ],
      "metadata": {
        "id": "ZB5W41IDIH1Q"
      },
      "execution_count": null,
      "outputs": []
    },
    {
      "cell_type": "code",
      "source": [
        "dataset = GPTDatasetV1(text,tokenizer,10,5)"
      ],
      "metadata": {
        "id": "p85YS1AgIKuo"
      },
      "execution_count": null,
      "outputs": []
    },
    {
      "cell_type": "code",
      "source": [
        "for i in range(len(dataset.input_ids)):\n",
        "  print(dataset.input_ids[i])\n",
        "  print(dataset.target_ids[i])\n",
        "  if i == 0:\n",
        "    break"
      ],
      "metadata": {
        "colab": {
          "base_uri": "https://localhost:8080/"
        },
        "id": "2qoQ1IZUIT4N",
        "outputId": "25155c2b-40a3-4d59-a16d-2dca933fc6c8"
      },
      "execution_count": null,
      "outputs": [
        {
          "output_type": "stream",
          "name": "stdout",
          "text": [
            "tensor([  198,   818, 11361,    11,   618,  1762,   351,  6097,    11,  1262])\n",
            "tensor([  818, 11361,    11,   618,  1762,   351,  6097,    11,  1262,  2116])\n"
          ]
        }
      ]
    },
    {
      "cell_type": "code",
      "source": [],
      "metadata": {
        "id": "bY5qZ0aiJkXu"
      },
      "execution_count": null,
      "outputs": []
    },
    {
      "cell_type": "markdown",
      "source": [
        "##**PyTorch Practice**"
      ],
      "metadata": {
        "id": "-KnTHBl2NPhz"
      }
    },
    {
      "cell_type": "code",
      "source": [
        "import torch"
      ],
      "metadata": {
        "id": "WjxCPaB8NbuA"
      },
      "execution_count": null,
      "outputs": []
    },
    {
      "cell_type": "code",
      "source": [
        "tensor0d = torch.tensor(100)\n",
        "tensor1d = torch.tensor([1,2,3,4,5])\n",
        "tensor2d = torch.tensor([[1,2,3],[4,5,6]])\n",
        "tensor3d = torch.tensor([[[1,2,3],[4,5,6]],[[7,8,9],[10,11,12]]])\n",
        "print(tensor0d)\n",
        "print(tensor1d)\n",
        "print(tensor2d)\n",
        "print(tensor3d)"
      ],
      "metadata": {
        "colab": {
          "base_uri": "https://localhost:8080/"
        },
        "id": "SRR2eFU1Nd00",
        "outputId": "6d2f53f0-7627-4dfc-a045-fdfe15a0d695"
      },
      "execution_count": null,
      "outputs": [
        {
          "output_type": "stream",
          "name": "stdout",
          "text": [
            "tensor(100)\n",
            "tensor([1, 2, 3, 4, 5])\n",
            "tensor([[1, 2, 3],\n",
            "        [4, 5, 6]])\n",
            "tensor([[[ 1,  2,  3],\n",
            "         [ 4,  5,  6]],\n",
            "\n",
            "        [[ 7,  8,  9],\n",
            "         [10, 11, 12]]])\n"
          ]
        }
      ]
    },
    {
      "cell_type": "code",
      "source": [
        "print(tensor3d.dtype)\n",
        "floatvec = torch.tensor([1.0,2.0,3.0])\n",
        "print(floatvec.dtype)"
      ],
      "metadata": {
        "colab": {
          "base_uri": "https://localhost:8080/"
        },
        "id": "7ELwiAL4Npa9",
        "outputId": "d9c1ec22-8e43-498e-e2ae-a15da1fea59b"
      },
      "execution_count": null,
      "outputs": [
        {
          "output_type": "stream",
          "name": "stdout",
          "text": [
            "torch.int64\n",
            "torch.float32\n"
          ]
        }
      ]
    },
    {
      "cell_type": "markdown",
      "source": [
        "If we create tensors from Python floats, **PyTorch creates tensors with a 32-bit\n",
        "precision by default**, as seen in above cell.\n",
        "1. This choice is primarily due to the balance between precision and\n",
        "computational efficiency. A 32-bit floating point number offers **sufficient\n",
        "precision for most deep learning tasks, while consuming less memory** and\n",
        "computational resources than a 64-bit floating point number.\n",
        "2. Moreover, **GPU\n",
        "architectures are optimized for 32-bit computations, and using this data type\n",
        "can significantly speed up model training and inference.**\n",
        "3. Moreover, it is **possible to readily change the precision using a tensor's .to\n",
        "method.**\n",
        "The following code demonstrates this by changing a 64-bit integer\n",
        "tensor into a 32-bit float tensor:"
      ],
      "metadata": {
        "id": "riTQR2VgOx8w"
      }
    },
    {
      "cell_type": "code",
      "source": [
        "tensor0d.to(torch.float32)"
      ],
      "metadata": {
        "colab": {
          "base_uri": "https://localhost:8080/"
        },
        "id": "rXcDPuB1ON0M",
        "outputId": "606c8b3c-6993-4b9c-fbda-1ce1e7d31a5e"
      },
      "execution_count": null,
      "outputs": [
        {
          "output_type": "execute_result",
          "data": {
            "text/plain": [
              "tensor(100.)"
            ]
          },
          "metadata": {},
          "execution_count": 187
        }
      ]
    },
    {
      "cell_type": "markdown",
      "source": [
        " **Common PyTorch tensor operations**\n",
        "\n",
        " .shape, .size, .reshape(to_size) --> alternate is .view(to_size), .T, matmul(or @)\n"
      ],
      "metadata": {
        "id": "u2LnDWKRQRvb"
      }
    },
    {
      "cell_type": "code",
      "source": [
        "tensor2d.shape, tensor2d.size()"
      ],
      "metadata": {
        "colab": {
          "base_uri": "https://localhost:8080/"
        },
        "id": "KtW7QbmgPpyN",
        "outputId": "b3dd83c4-ef6e-4ff2-96f6-2a63bddc47cd"
      },
      "execution_count": null,
      "outputs": [
        {
          "output_type": "execute_result",
          "data": {
            "text/plain": [
              "(torch.Size([2, 3]), torch.Size([2, 3]))"
            ]
          },
          "metadata": {},
          "execution_count": 200
        }
      ]
    },
    {
      "cell_type": "code",
      "source": [
        "print(tensor2d)"
      ],
      "metadata": {
        "colab": {
          "base_uri": "https://localhost:8080/"
        },
        "id": "jilJNAq2Pvfw",
        "outputId": "d57ecff6-bdef-4bc3-a4b8-3296aefe0d00"
      },
      "execution_count": null,
      "outputs": [
        {
          "output_type": "stream",
          "name": "stdout",
          "text": [
            "tensor([[1, 2, 3],\n",
            "        [4, 5, 6]])\n"
          ]
        }
      ]
    },
    {
      "cell_type": "code",
      "source": [
        "print(tensor2d.reshape(3,2))"
      ],
      "metadata": {
        "colab": {
          "base_uri": "https://localhost:8080/"
        },
        "id": "EW1Tzt4oRDF7",
        "outputId": "e204739d-f95c-4358-8d0d-15091f78976e"
      },
      "execution_count": null,
      "outputs": [
        {
          "output_type": "stream",
          "name": "stdout",
          "text": [
            "tensor([[1, 2],\n",
            "        [3, 4],\n",
            "        [5, 6]])\n"
          ]
        }
      ]
    },
    {
      "cell_type": "code",
      "source": [
        "tensor3d,tensor3d.shape"
      ],
      "metadata": {
        "colab": {
          "base_uri": "https://localhost:8080/"
        },
        "id": "UbQjJyxmRNbo",
        "outputId": "b49e4004-f163-4514-f8b2-7b11d4322ac3"
      },
      "execution_count": null,
      "outputs": [
        {
          "output_type": "execute_result",
          "data": {
            "text/plain": [
              "(tensor([[[ 1,  2,  3],\n",
              "          [ 4,  5,  6]],\n",
              " \n",
              "         [[ 7,  8,  9],\n",
              "          [10, 11, 12]]]),\n",
              " torch.Size([2, 2, 3]))"
            ]
          },
          "metadata": {},
          "execution_count": 201
        }
      ]
    },
    {
      "cell_type": "code",
      "source": [
        "tensor3d.view(2,6)"
      ],
      "metadata": {
        "colab": {
          "base_uri": "https://localhost:8080/"
        },
        "id": "s_AyUkSURG1H",
        "outputId": "5a300317-8eb9-4648-d474-01ff5189aee3"
      },
      "execution_count": null,
      "outputs": [
        {
          "output_type": "execute_result",
          "data": {
            "text/plain": [
              "tensor([[ 1,  2,  3,  4,  5,  6],\n",
              "        [ 7,  8,  9, 10, 11, 12]])"
            ]
          },
          "metadata": {},
          "execution_count": 202
        }
      ]
    },
    {
      "cell_type": "code",
      "source": [
        "tensor3d.view(6,2)"
      ],
      "metadata": {
        "colab": {
          "base_uri": "https://localhost:8080/"
        },
        "id": "GORRG12aR5a3",
        "outputId": "4a971925-d2e2-416e-9156-44301a91ac47"
      },
      "execution_count": null,
      "outputs": [
        {
          "output_type": "execute_result",
          "data": {
            "text/plain": [
              "tensor([[ 1,  2],\n",
              "        [ 3,  4],\n",
              "        [ 5,  6],\n",
              "        [ 7,  8],\n",
              "        [ 9, 10],\n",
              "        [11, 12]])"
            ]
          },
          "metadata": {},
          "execution_count": 203
        }
      ]
    },
    {
      "cell_type": "code",
      "source": [
        "tensor3d.view(3,2,2)"
      ],
      "metadata": {
        "colab": {
          "base_uri": "https://localhost:8080/"
        },
        "id": "XDz3YeB4R8oG",
        "outputId": "98dab9dc-dfa5-44b4-bb3e-f3dcf2bfce1d"
      },
      "execution_count": null,
      "outputs": [
        {
          "output_type": "execute_result",
          "data": {
            "text/plain": [
              "tensor([[[ 1,  2],\n",
              "         [ 3,  4]],\n",
              "\n",
              "        [[ 5,  6],\n",
              "         [ 7,  8]],\n",
              "\n",
              "        [[ 9, 10],\n",
              "         [11, 12]]])"
            ]
          },
          "metadata": {},
          "execution_count": 204
        }
      ]
    },
    {
      "cell_type": "code",
      "source": [
        "tensor2d"
      ],
      "metadata": {
        "colab": {
          "base_uri": "https://localhost:8080/"
        },
        "id": "Gzg0fZOuSMMQ",
        "outputId": "895b2842-772d-4710-ef7e-39619ffc54ce"
      },
      "execution_count": null,
      "outputs": [
        {
          "output_type": "execute_result",
          "data": {
            "text/plain": [
              "tensor([[1, 2, 3],\n",
              "        [4, 5, 6]])"
            ]
          },
          "metadata": {},
          "execution_count": 206
        }
      ]
    },
    {
      "cell_type": "code",
      "source": [
        "tensor2d.T"
      ],
      "metadata": {
        "colab": {
          "base_uri": "https://localhost:8080/"
        },
        "id": "UXwFufO-SPuG",
        "outputId": "cae3785b-df6c-4d48-87b3-58d0cad76a31"
      },
      "execution_count": null,
      "outputs": [
        {
          "output_type": "execute_result",
          "data": {
            "text/plain": [
              "tensor([[1, 4],\n",
              "        [2, 5],\n",
              "        [3, 6]])"
            ]
          },
          "metadata": {},
          "execution_count": 207
        }
      ]
    },
    {
      "cell_type": "code",
      "source": [
        "tensor3d"
      ],
      "metadata": {
        "colab": {
          "base_uri": "https://localhost:8080/"
        },
        "id": "a_cNla9nSWuJ",
        "outputId": "e822b9ea-e4ef-4044-c3d1-b513847d347b"
      },
      "execution_count": null,
      "outputs": [
        {
          "output_type": "execute_result",
          "data": {
            "text/plain": [
              "tensor([[[ 1,  2,  3],\n",
              "         [ 4,  5,  6]],\n",
              "\n",
              "        [[ 7,  8,  9],\n",
              "         [10, 11, 12]]])"
            ]
          },
          "metadata": {},
          "execution_count": 208
        }
      ]
    },
    {
      "cell_type": "code",
      "source": [
        "tensor3d.mT"
      ],
      "metadata": {
        "colab": {
          "base_uri": "https://localhost:8080/"
        },
        "id": "7G8nIzMQSZvN",
        "outputId": "3c6dc354-c283-4d36-da01-7e58f2635d14"
      },
      "execution_count": null,
      "outputs": [
        {
          "output_type": "execute_result",
          "data": {
            "text/plain": [
              "tensor([[[ 1,  4],\n",
              "         [ 2,  5],\n",
              "         [ 3,  6]],\n",
              "\n",
              "        [[ 7, 10],\n",
              "         [ 8, 11],\n",
              "         [ 9, 12]]])"
            ]
          },
          "metadata": {},
          "execution_count": 212
        }
      ]
    },
    {
      "cell_type": "code",
      "source": [
        "tensor3d.shape , tensor3d.mT.shape"
      ],
      "metadata": {
        "colab": {
          "base_uri": "https://localhost:8080/"
        },
        "id": "4XY_PDAgSb4c",
        "outputId": "87dba6a4-c0a2-4d0c-e9e3-507b3c782e88"
      },
      "execution_count": null,
      "outputs": [
        {
          "output_type": "execute_result",
          "data": {
            "text/plain": [
              "(torch.Size([2, 2, 3]), torch.Size([2, 3, 2]))"
            ]
          },
          "metadata": {},
          "execution_count": 213
        }
      ]
    },
    {
      "cell_type": "code",
      "source": [
        "tensor2d.matmul(tensor2d.T)"
      ],
      "metadata": {
        "colab": {
          "base_uri": "https://localhost:8080/"
        },
        "id": "1xfnJqSnSyId",
        "outputId": "f9195a68-7b4e-4b71-d848-9dc43c6317d8"
      },
      "execution_count": null,
      "outputs": [
        {
          "output_type": "execute_result",
          "data": {
            "text/plain": [
              "tensor([[14, 32],\n",
              "        [32, 77]])"
            ]
          },
          "metadata": {},
          "execution_count": 214
        }
      ]
    },
    {
      "cell_type": "code",
      "source": [
        "tensor2d @ tensor2d.T"
      ],
      "metadata": {
        "colab": {
          "base_uri": "https://localhost:8080/"
        },
        "id": "FNpli15LS_lO",
        "outputId": "8b412853-9983-4304-b7bb-09f59e83b9c4"
      },
      "execution_count": null,
      "outputs": [
        {
          "output_type": "execute_result",
          "data": {
            "text/plain": [
              "tensor([[14, 32],\n",
              "        [32, 77]])"
            ]
          },
          "metadata": {},
          "execution_count": 216
        }
      ]
    },
    {
      "cell_type": "code",
      "source": [],
      "metadata": {
        "id": "3aNcyjAvTEwK"
      },
      "execution_count": null,
      "outputs": []
    }
  ]
}